{
 "cells": [
  {
   "cell_type": "code",
   "execution_count": 646,
   "metadata": {
    "collapsed": true
   },
   "outputs": [],
   "source": [
    "from collections import Counter\n",
    "import ConfigParser\n",
    "import matplotlib.pyplot as plt\n",
    "import networkx as nx\n",
    "import sys\n",
    "import time\n",
    "import csv\n",
    "import os\n",
    "import glob\n",
    "import unicodecsv as csv\n",
    "from django.utils.encoding import smart_str, smart_unicode\n",
    "from TwitterAPI import TwitterAPI\n",
    "from sklearn.cross_validation import KFold\n",
    "from sklearn.linear_model import LogisticRegression\n",
    "from sklearn.metrics import accuracy_score, confusion_matrix\n",
    "from sklearn.feature_extraction.text import CountVectorizer\n",
    "from scipy.sparse import csr_matrix\n",
    "import numpy as np\n",
    "import statsmodels.tsa.stattools\n",
    "import re\n",
    "%matplotlib inline\n",
    "from textblob.sentiments import NaiveBayesAnalyzer\n",
    "from django.utils.encoding import smart_str, smart_unicode\n",
    "from nltk.corpus import sentiwordnet as swn\n",
    "import nltk\n",
    "from __future__ import division\n",
    "from textblob import TextBlob\n",
    "import string\n",
    "import statsmodels.tsa.stattools\n",
    "%matplotlib inline"
   ]
  },
  {
   "cell_type": "code",
   "execution_count": 647,
   "metadata": {
    "collapsed": false
   },
   "outputs": [
    {
     "name": "stdout",
     "output_type": "stream",
     "text": [
      "Established Twitter connection.\n"
     ]
    }
   ],
   "source": [
    "# This method is done for you. Make sure to put your credentials in twitter.cfg.\n",
    "def get_twitter(config_file):\n",
    "    \"\"\" Read the config_file and construct an instance of TwitterAPI.\n",
    "    Args:\n",
    "      config_file ... A config file in ConfigParser format with Twitter credentials\n",
    "    Returns:\n",
    "      An instance of TwitterAPI.\n",
    "    \"\"\"\n",
    "    config = ConfigParser.ConfigParser()\n",
    "    config.read(config_file)\n",
    "    twitter = TwitterAPI(\n",
    "                   config.get('twitter', 'consumer_key'),\n",
    "                   config.get('twitter', 'consumer_secret'),\n",
    "                   config.get('twitter', 'access_token'),\n",
    "                   config.get('twitter', 'access_token_secret'))\n",
    "    return twitter\n",
    "\n",
    "twitter = get_twitter('twitter.cfg')\n",
    "print('Established Twitter connection.')"
   ]
  },
  {
   "cell_type": "code",
   "execution_count": 648,
   "metadata": {
    "collapsed": true
   },
   "outputs": [],
   "source": [
    "def read_accounts(filename):\n",
    "    \"\"\" Read a list of keywords to get twiiter data\n",
    "    Args:\n",
    "      filename: The name of the text file containing in format:\n",
    "         <twitter handle>\n",
    "    Returns:\n",
    "      A list of (string) for search query.\n",
    "    \"\"\"\n",
    "    candidatesList = []\n",
    "    with open(filename) as candidateFile:\n",
    "        for candidate in candidateFile:\n",
    "            candidatesList.append(candidate.strip())\n",
    "    return candidatesList"
   ]
  },
  {
   "cell_type": "code",
   "execution_count": 649,
   "metadata": {
    "collapsed": true
   },
   "outputs": [],
   "source": [
    "# I've provided the method below to handle Twitter's rate limiting.\n",
    "def robust_request(twitter, resource, params, max_tries=5):\n",
    "    \"\"\" If a Twitter request fails, sleep for 15 minutes.\n",
    "    Do this at most max_tries times before quitting.\n",
    "    Args:\n",
    "      twitter .... A TwitterAPI object.\n",
    "      resource ... A resource string to request.\n",
    "      params ..... A parameter dictionary for the request.\n",
    "      max_tries .. The maximum number of tries to attempt.\n",
    "    Returns:\n",
    "      A TwitterResponse object, or None if failed.\n",
    "    \"\"\"\n",
    "    for i in range(max_tries):\n",
    "        request = twitter.request(resource, params)\n",
    "        if request.status_code == 200:\n",
    "            return request\n",
    "        else:\n",
    "            print >> sys.stderr, 'Got error:', request.text, '\\nsleeping for 15 minutes.'\n",
    "            sys.stderr.flush()\n",
    "            time.sleep(61 * 15)"
   ]
  },
  {
   "cell_type": "code",
   "execution_count": 650,
   "metadata": {
    "collapsed": true
   },
   "outputs": [],
   "source": [
    "def get_search_tweets(keywords):\n",
    "    \"\"\" creates a csv file on data folder for all the search request \n",
    "    \n",
    "    Args:\n",
    "        keywords: a string to search in twiter data stream\n",
    "    Returns:\n",
    "        A list of strings, one per friend.\n",
    "    Note: request iterate to all the pages and get the tweets from twitter search API every page request \n",
    "        get 200 tweets and look for naxt page for another tweets.\n",
    "    \"\"\"\n",
    "    outf = open('/Users/Aakash/Desktop/Books/Code/cs579/aakash7864-asg/asg/Masters_projects/AppleCSV/12_01_2015/'+keywords+'_Searchtweets.csv', 'wb')\n",
    "    wr = csv.writer(outf, delimiter=',', quoting=csv.QUOTE_ALL,encoding='utf-8')\n",
    "    friend_list =[]\n",
    "    print ('Running Twitter query for following keywords %s ' , keywords)\n",
    "    request = twitter.request('search/tweets', {'q': keywords,'count':200})\n",
    "    for item in request.get_iterator():\n",
    "        for r in request:\n",
    "            user = r['user']\n",
    "            wr.writerow([r['created_at'],user['name'],user['screen_name'],smart_str(user['description']),smart_str(r['text']),r['lang'],user['favourites_count'],user['followers_count'],user['friends_count'],user['location'],user['listed_count']])\n",
    "   "
   ]
  },
  {
   "cell_type": "code",
   "execution_count": 651,
   "metadata": {
    "collapsed": true
   },
   "outputs": [],
   "source": [
    "account_list=read_accounts('AppleSearchTweets.txt')"
   ]
  },
  {
   "cell_type": "code",
   "execution_count": 652,
   "metadata": {
    "collapsed": true
   },
   "outputs": [],
   "source": [
    "\"\"\"Read keywords from account list and fires search request for each keywords\"\"\"\n",
    "def get_tweets_for_search(account_list):\n",
    "    for acc in account_list:\n",
    "        print ('Getting tweets for ', acc)\n",
    "        get_search_tweets(acc)"
   ]
  },
  {
   "cell_type": "code",
   "execution_count": 653,
   "metadata": {
    "collapsed": false
   },
   "outputs": [
    {
     "data": {
      "text/plain": [
       "'Uncomment this block if data collection is required\\n    call the twiiterAPI to collect data\\n'"
      ]
     },
     "execution_count": 653,
     "metadata": {},
     "output_type": "execute_result"
    }
   ],
   "source": [
    "\"\"\"Uncomment this block if data collection is required\n",
    "    call the twiiterAPI to collect data\n",
    "\"\"\"\n",
    "#get_tweets_for_search(account_list)"
   ]
  },
  {
   "cell_type": "code",
   "execution_count": 654,
   "metadata": {
    "collapsed": true
   },
   "outputs": [],
   "source": [
    "def get_files(path,extension):\n",
    "    \"\"\" Return a list of file names in this directory that end in given extension \n",
    "    The list should be sorted alphabetically by file name.\n",
    "    Params:\n",
    "        path....a directory containing files.\n",
    "        extension...search for a particular extension\n",
    "    Returns:\n",
    "        a list of file names haiving extension passed inparam, sorted alphabetically.\n",
    "    \"\"\"\n",
    "    text_files = [path + os.sep + f for f in os.listdir(path) if f.endswith(extension)]\n",
    "    return text_files"
   ]
  },
  {
   "cell_type": "code",
   "execution_count": 655,
   "metadata": {
    "collapsed": true
   },
   "outputs": [],
   "source": [
    "def get_files_from_subdir(path,extension):\n",
    "    \"\"\" Return a list of file names in this sub directory of a directory that end in given extension \n",
    "    The list should be sorted alphabetically by file name.\n",
    "    Params:\n",
    "        path....a directory containing files.\n",
    "        extension...search for a particular extension\n",
    "    Returns:\n",
    "        a list of file names haiving extension passed in param within a subdirectory, sorted alphabetically.\n",
    "    \"\"\"\n",
    "    path = os.getcwd()+os.sep+'data'+os.sep+path\n",
    "    filelist_withdate=[]\n",
    "    for subdir in os.listdir(path):\n",
    "        if subdir != '.DS_Store':\n",
    "             filelist_withdate.append((subdir,get_files(path + os.sep + subdir,extension)))\n",
    "    return filelist_withdate"
   ]
  },
  {
   "cell_type": "code",
   "execution_count": 656,
   "metadata": {
    "collapsed": true
   },
   "outputs": [],
   "source": [
    "#start process_tweet\n",
    "def processTweet(tweet):\n",
    "    \"\"\" Return a filtered tweets after removing unwanted text from orignal tweets  \n",
    "    Params:\n",
    "        tweet....orignal tweets collected form twitter API.\n",
    "    Returns:\n",
    "        a filtered tweets with following conversion \n",
    "        Convert www.* or https?://* to URL,@username to AT_USER,additional white spaces,replace word with word\n",
    "    \"\"\"\n",
    "    tweet = tweet.lower()\n",
    "    tweet = re.sub('((www\\.[^\\s]+)|(https?://[^\\s]+))','URL',tweet)\n",
    "    tweet = re.sub('@[^\\s]+','AT_USER',tweet)\n",
    "    tweet = re.sub('[\\s]+', ' ', tweet)\n",
    "    tweet = re.sub(r'#([^\\s]+)', r'\\1', tweet)\n",
    "    tweet = tweet.strip('\\'\"')\n",
    "    return tweet"
   ]
  },
  {
   "cell_type": "code",
   "execution_count": 657,
   "metadata": {
    "collapsed": true
   },
   "outputs": [],
   "source": [
    "\"\"\" Filter unique tweets from csv file coolected from twitter \n",
    "    As tweets collected have lots of repeated tweets \n",
    "    Params:\n",
    "        filename....csv file name where orignal tweets are stored\n",
    "        filtered_tweets...tweets that are already filtered for that day\n",
    "\"\"\"\n",
    "def filter_repeated_tweets(filename,filtered_tweets):\n",
    "    #print \"running for file name \",filename\n",
    "    readFile = open(filename, 'rb')\n",
    "    \n",
    "    file_reader = csv.reader(readFile, delimiter=',', quotechar='\"')\n",
    "    for row in file_reader:\n",
    "        if row[5] == 'en':\n",
    "            tweets=processTweet(row[4])\n",
    "            if tweets not in filtered_tweets:\n",
    "                filtered_tweets.append(tweets) \n",
    "    #print 'total filtered %d tweets' % len(filtered_tweets)"
   ]
  },
  {
   "cell_type": "code",
   "execution_count": 658,
   "metadata": {
    "collapsed": true
   },
   "outputs": [],
   "source": [
    "\"\"\" Creates text file for each day filtered tweets  \n",
    "    Params:\n",
    "        filename...file name for creation of filtered tweets \n",
    "        filtered_tweets...tweets that are already filtered for that day\n",
    "\"\"\"\n",
    "def create_csv_of_filtered_tweets(filename,filtered_tweets):\n",
    "    #print 'total filtered %d tweets' % len(filtered_tweets)\n",
    "    outf = open(os.getcwd()+os.sep+'data'+os.sep+'filterdata'+os.sep+filename+'.txt', 'wb')\n",
    "    for tweets in filtered_tweets:\n",
    "        outf.write(smart_str(tweets)+\"\\n\")"
   ]
  },
  {
   "cell_type": "code",
   "execution_count": 659,
   "metadata": {
    "collapsed": true
   },
   "outputs": [],
   "source": [
    "\"\"\" Return filtered tweets that are unique among multiple csv files \n",
    "    Params:\n",
    "        csv_file_list...csv file for each day\n",
    "    Returns:\n",
    "    filtered_tweets...tweets are unique among multiple csv files \n",
    "\"\"\"\n",
    "def filter_tweets_from_csvfiles(csv_file_list):\n",
    "    print 'total CSV Files %d ' % len(csv_file_list)\n",
    "    filtered_tweets=[]\n",
    "    for csvfile in csv_file_list:\n",
    "        filter_repeated_tweets(csvfile,filtered_tweets)\n",
    "    return filtered_tweets"
   ]
  },
  {
   "cell_type": "code",
   "execution_count": 660,
   "metadata": {
    "collapsed": false
   },
   "outputs": [],
   "source": [
    "\"\"\" Run filtering on rawdata collected from twitter and stores\n",
    "    filtered tweets in filteredtweets directory \n",
    "    Returns:\n",
    "    filtered_tweets_bydate : a Tuple (date , filtered_tweets) having date and its unique tweets\n",
    "    Note:\n",
    "    If you do not want to run filtering dont run this method.\n",
    "\"\"\"\n",
    "def run_filtering():\n",
    "    csv_files=get_files_from_subdir('rawdata','.csv')\n",
    "    filtered_tweets_bydate=[]\n",
    "    for date,files in csv_files:\n",
    "        #print files\n",
    "        filtered_tweets=filter_tweets_from_csvfiles(files)\n",
    "        filtered_tweets_bydate.append((date,filtered_tweets))\n",
    "        create_csv_of_filtered_tweets(date,filtered_tweets)\n",
    "    return filtered_tweets_bydate\n",
    "#filtered_tweets_bydate=run_filtering()\n",
    "#for date,data in filtered_tweets_bydate:\n",
    "#    print date + 'Total Unique tweets %d ' % len(data)"
   ]
  },
  {
   "cell_type": "code",
   "execution_count": 661,
   "metadata": {
    "collapsed": true
   },
   "outputs": [],
   "source": [
    "def do_cross_val(X, y, nfolds):\n",
    "    accuracies=[]\n",
    "    cv = KFold(len(y), nfolds)\n",
    "    for train_idx, test_idx in cv:\n",
    "        clf = LogisticRegression()\n",
    "        clf.fit(X[train_idx], y[train_idx])\n",
    "        predicted = clf.predict(X[test_idx])\n",
    "        acc = accuracy_score(y[test_idx], predicted)\n",
    "        accuracies.append(acc)\n",
    "    avg = np.mean(accuracies)\n",
    "    return avg"
   ]
  },
  {
   "cell_type": "code",
   "execution_count": 662,
   "metadata": {
    "collapsed": true
   },
   "outputs": [],
   "source": [
    "def tokenize(text):\n",
    "    return re.sub('\\W+', ' ', text.lower()).split()\n"
   ]
  },
  {
   "cell_type": "code",
   "execution_count": 663,
   "metadata": {
    "collapsed": true
   },
   "outputs": [],
   "source": [
    "def do_vectorize(tweets, tokenizer_fn=tokenize, min_df=1,\n",
    "                 max_df=1., binary=True, ngram_range=(1,1)):\n",
    "    \"\"\"\n",
    "    Convert a list of filenames into a sparse csr_matrix, where\n",
    "    each row is a file and each column represents a unique word.\n",
    "    Use sklearn's CountVectorizer: http://goo.gl/eJ2PJ5\n",
    "    Params:\n",
    "        filenames.......list of review file names\n",
    "        tokenizer_fn....the function used to tokenize each document\n",
    "        min_df..........remove terms from the vocabulary that don't appear\n",
    "                        in at least this many documents\n",
    "        max_df..........remove terms from the vocabulary that appear in more\n",
    "                        than this fraction of documents\n",
    "        binary..........If true, each documents is represented by a binary\n",
    "                        vector, where 1 means a term occurs at2 least once in \n",
    "                        the document. If false, the term frequency is used instead.\n",
    "        ngram_range.....A tuple (n,m) means to use phrases of length n to m inclusive.\n",
    "                        E.g., (1,2) means consider unigrams and bigrams.\n",
    "    Return:\n",
    "        A tuple (X, vec), where X is the csr_matrix of feature vectors,\n",
    "        and vec is the CountVectorizer object.\n",
    "    \"\"\"\n",
    "    stop_words = ['URL','AT_USER']\n",
    "    vec = CountVectorizer( tokenizer=tokenizer_fn, min_df=min_df,\n",
    "                 max_df=max_df,binary=binary, ngram_range=ngram_range,stop_words=stop_words)\n",
    "    data = vec.fit_transform(tweets)\n",
    "    return (data,vec)"
   ]
  },
  {
   "cell_type": "code",
   "execution_count": 664,
   "metadata": {
    "collapsed": true
   },
   "outputs": [],
   "source": [
    "def readFile(filename):\n",
    "    content =[]\n",
    "    with open(filename) as f:\n",
    "        for line in f:\n",
    "            labeled_tweet = line.split('|')\n",
    "            content.append(labeled_tweet)\n",
    "    return content"
   ]
  },
  {
   "cell_type": "code",
   "execution_count": 665,
   "metadata": {
    "collapsed": true
   },
   "outputs": [],
   "source": [
    "def get_Y_Matrix(tweets):\n",
    "    Y=[]\n",
    "    for tweet in tweets:\n",
    "        Y.append(tweet[0])\n",
    "    return np.array(Y)"
   ]
  },
  {
   "cell_type": "code",
   "execution_count": 666,
   "metadata": {
    "collapsed": true
   },
   "outputs": [],
   "source": [
    "#lets test the advertisement classifier on unknown data to filter non ad tweets\n",
    "def removeAdvertisements(source_file_name):\n",
    "    #lets see how accurate the advertisement classifier is\n",
    "    tweets = readFile(os.getcwd()+os.sep+'data'+os.sep+'labeldata'+os.sep+'adv_tweets_labelled.txt')\n",
    "    matrix, vec= do_vectorize((t[1] for t in tweets),min_df=2)\n",
    "    Y = get_Y_Matrix(tweets)\n",
    "    print \"The advertisement classifier is %s precent accurate\" % (do_cross_val(matrix, Y,5)*100)\n",
    "\n",
    "    new_tweets = readFile(source_file_name)\n",
    "    merged_list =[]\n",
    "    for t in tweets:\n",
    "        merged_list.append(t[1])\n",
    "\n",
    "    length_training_data = len(merged_list)\n",
    "    for t in new_tweets:\n",
    "        merged_list.append(t[0])\n",
    "\n",
    "    new_matrix = vec.fit_transform(merged_list)    \n",
    "    advt_clf = LogisticRegression()\n",
    "    advt_clf.fit(new_matrix[:length_training_data], Y)\n",
    "    predicted_Y = advt_clf.predict(new_matrix[length_training_data:])    \n",
    "\n",
    "    target_file_name = re.sub('filterdata','noadvertismentdata', source_file_name)\n",
    "    print target_file_name\n",
    "    with open(target_file_name, 'w') as f:\n",
    "        for y,t in zip(predicted_Y,new_tweets):\n",
    "            if y=='0':\n",
    "                f.write(\"%s\" %t[0])    \n",
    " "
   ]
  },
  {
   "cell_type": "code",
   "execution_count": 667,
   "metadata": {
    "collapsed": false
   },
   "outputs": [
    {
     "name": "stdout",
     "output_type": "stream",
     "text": [
      "/Users/Aakash/Desktop/untitledfolder/data/filterdata/11_18_2015.txt\n",
      "The advertisement classifier is 76.052855925 precent accurate\n",
      "/Users/Aakash/Desktop/untitledfolder/data/noadvertismentdata/11_18_2015.txt\n",
      "/Users/Aakash/Desktop/untitledfolder/data/filterdata/11_19_2015.txt\n",
      "The advertisement classifier is 76.052855925 precent accurate\n",
      "/Users/Aakash/Desktop/untitledfolder/data/noadvertismentdata/11_19_2015.txt\n",
      "/Users/Aakash/Desktop/untitledfolder/data/filterdata/11_20_2015.txt\n",
      "The advertisement classifier is 76.052855925 precent accurate\n",
      "/Users/Aakash/Desktop/untitledfolder/data/noadvertismentdata/11_20_2015.txt\n",
      "/Users/Aakash/Desktop/untitledfolder/data/filterdata/11_21_2015.txt\n",
      "The advertisement classifier is 76.052855925 precent accurate\n",
      "/Users/Aakash/Desktop/untitledfolder/data/noadvertismentdata/11_21_2015.txt\n",
      "/Users/Aakash/Desktop/untitledfolder/data/filterdata/11_23_2015.txt\n",
      "The advertisement classifier is 76.052855925 precent accurate\n",
      "/Users/Aakash/Desktop/untitledfolder/data/noadvertismentdata/11_23_2015.txt\n",
      "/Users/Aakash/Desktop/untitledfolder/data/filterdata/11_25_2015.txt\n",
      "The advertisement classifier is 76.052855925 precent accurate\n",
      "/Users/Aakash/Desktop/untitledfolder/data/noadvertismentdata/11_25_2015.txt\n",
      "/Users/Aakash/Desktop/untitledfolder/data/filterdata/11_27_2015.txt\n",
      "The advertisement classifier is 76.052855925 precent accurate\n",
      "/Users/Aakash/Desktop/untitledfolder/data/noadvertismentdata/11_27_2015.txt\n",
      "/Users/Aakash/Desktop/untitledfolder/data/filterdata/11_28_2015.txt\n",
      "The advertisement classifier is 76.052855925 precent accurate\n",
      "/Users/Aakash/Desktop/untitledfolder/data/noadvertismentdata/11_28_2015.txt\n",
      "/Users/Aakash/Desktop/untitledfolder/data/filterdata/11_29_2015.txt\n",
      "The advertisement classifier is 76.052855925 precent accurate\n",
      "/Users/Aakash/Desktop/untitledfolder/data/noadvertismentdata/11_29_2015.txt\n",
      "/Users/Aakash/Desktop/untitledfolder/data/filterdata/11_30_2015.txt\n",
      "The advertisement classifier is 76.052855925 precent accurate\n",
      "/Users/Aakash/Desktop/untitledfolder/data/noadvertismentdata/11_30_2015.txt\n",
      "/Users/Aakash/Desktop/untitledfolder/data/filterdata/12_01_2015.txt\n",
      "The advertisement classifier is 76.052855925 precent accurate\n",
      "/Users/Aakash/Desktop/untitledfolder/data/noadvertismentdata/12_01_2015.txt\n"
     ]
    }
   ],
   "source": [
    "filtered_files=get_files(os.getcwd()+os.sep+'data'+os.sep+'filterdata','.txt')\n",
    "for filtered_file in filtered_files:\n",
    "    print filtered_file\n",
    "    removeAdvertisements(filtered_file)"
   ]
  },
  {
   "cell_type": "code",
   "execution_count": 668,
   "metadata": {
    "collapsed": true
   },
   "outputs": [],
   "source": [
    "#replace the neutral label 0 to act as positive. \n",
    "#this way we are classifying data in only positive(1) and negative(-1) class\n",
    "def replaceLabel(Y,old_label,new_label):\n",
    "    Y_neg = []  \n",
    "    for label in Y:\n",
    "        if label==old_label:\n",
    "            Y_neg.append(new_label)\n",
    "        else:\n",
    "            Y_neg.append(label)\n",
    "    return np.array(Y_neg)"
   ]
  },
  {
   "cell_type": "code",
   "execution_count": 669,
   "metadata": {
    "collapsed": true
   },
   "outputs": [],
   "source": [
    "def classify(source_filename, old_label,new_label):\n",
    "    tweets = readFile(os.getcwd()+os.sep+'data'+os.sep+'labeldata'+os.sep+'sentiment_tweets_labelled.txt')\n",
    "    X, vec= do_vectorize((t[1] for t in tweets),min_df=2)\n",
    "    Y = get_Y_Matrix(tweets)\n",
    "\n",
    "    Y_neg = replaceLabel(Y,old_label,new_label)\n",
    "    \n",
    "    print \"The classifier with classes %s and %s is %s precent accurate\" % (old_label,new_label,(do_cross_val(X, Y_neg,5)*100))\n",
    "\n",
    "    new_tweets = readFile(source_filename)\n",
    "    merged_list =[]\n",
    "    for t in tweets:\n",
    "        merged_list.append(t[1])\n",
    "\n",
    "    length_training_data = len(merged_list)\n",
    "    for t in new_tweets:\n",
    "        merged_list.append(t[0])\n",
    "\n",
    "    new_matrix = vec.fit_transform(merged_list)    \n",
    "    clf = LogisticRegression()\n",
    "    clf.fit(new_matrix[:length_training_data], Y_neg)\n",
    "    predicted_Y = clf.predict(new_matrix[length_training_data:])    \n",
    "    predict_proba = clf.predict_proba(new_matrix[length_training_data:])\n",
    "    return (predicted_Y,predict_proba)"
   ]
  },
  {
   "cell_type": "code",
   "execution_count": 670,
   "metadata": {
    "collapsed": true
   },
   "outputs": [],
   "source": [
    "def getMostProbableClass(probabilities):\n",
    "    #get max amongst three\n",
    "    max_prob=probabilities[0];\n",
    "    max_index=0;\n",
    "    for i in range(1,3):\n",
    "        if probabilities[i]>max_prob:\n",
    "            max_prob=probabilities[i]\n",
    "            max_index=i\n",
    "    return max_index-1    "
   ]
  },
  {
   "cell_type": "code",
   "execution_count": null,
   "metadata": {
    "collapsed": false
   },
   "outputs": [],
   "source": []
  },
  {
   "cell_type": "code",
   "execution_count": 671,
   "metadata": {
    "collapsed": true
   },
   "outputs": [],
   "source": [
    "def tokenize(text):\n",
    "    return re.sub('\\W+', ' ', text.lower()).split()"
   ]
  },
  {
   "cell_type": "code",
   "execution_count": 672,
   "metadata": {
    "collapsed": true
   },
   "outputs": [],
   "source": [
    "\"\"\" Return the polarity of the text using TextBlob subjective setiment analyser  \n",
    "    Params:\n",
    "        text....Tweets that re filtered and have no advertisment.\n",
    "        tokenizer_fn...Tokenizer for analysis\n",
    "    Returns:\n",
    "        Polarity of a tweets\n",
    "    Note: We have tried Naive Bayes Analyzer and PatternAnalyzer and we choosed PatternAnalyzer beacuse \n",
    "    1: Result looks more accurate than Naive Bayes \n",
    "    2: Running Naive Bayes Analyzer with text blob takes lots of time to run without giving any significant \n",
    "       output result.\n",
    "\"\"\"\n",
    "def sentiment_analysis(text,tokenizer_fn=tokenize):\n",
    "    #polarity=0\n",
    "    #subj=0\n",
    "    #unicode_test=re.sub(r'[^\\x00-\\x7F]+',' ', text)\n",
    "    blob = TextBlob(re.sub(r'[^\\x00-\\x7F]+',' ', text))\n",
    "    #sent = TextBlob(unicode_test, analyzer=NaiveBayesAnalyzer())\n",
    "    #classification = sent.sentiment.classification\n",
    "    #p_pos = sent.sentiment.p_pos\n",
    "    #p_neg = sent.sentiment.p_neg\n",
    "    #print p_pos,p_neg,blob.sentiment.polarity,blob.sentiment.subjectivity\n",
    "    #print blob.sentiment.polarity,blob.sentiment.subjectivity\n",
    "    return (blob.sentiment.polarity)"
   ]
  },
  {
   "cell_type": "code",
   "execution_count": 673,
   "metadata": {
    "collapsed": true
   },
   "outputs": [],
   "source": [
    "\"\"\" Return a list of Tuple(filename,sentiment for each tweets) \n",
    "    Params:\n",
    "        filenames....File list contaning tweets to run textBlob sentiment on.\n",
    "    Returns:\n",
    "        setiment_of_all_tweets...A list of Tuple(filename,sentiment for each tweets) \n",
    "\"\"\"\n",
    "def run_sentiment(filenames):\n",
    "    setiment_of_all_tweets=[]\n",
    "    \n",
    "    for fname in filenames:\n",
    "        with open(fname) as f:\n",
    "            tweets_sentiment_list=[]\n",
    "            for line in f:\n",
    "                tweets_sentiment_list.append((line,sentiment_analysis(line,tokenize)))\n",
    "            setiment_of_all_tweets.append((fname,tweets_sentiment_list))\n",
    "            \n",
    "    return setiment_of_all_tweets\n",
    "\n",
    "     "
   ]
  },
  {
   "cell_type": "code",
   "execution_count": 674,
   "metadata": {
    "collapsed": false
   },
   "outputs": [
    {
     "name": "stdout",
     "output_type": "stream",
     "text": [
      "/Users/Aakash/Desktop/untitledfolder/data/noadvertismentdata/11_18_2015.txt\n",
      "0.358618500358 -0.236956184787 0.404425314855\n",
      "/Users/Aakash/Desktop/untitledfolder/data/noadvertismentdata/11_19_2015.txt\n",
      "0.335720479809 -0.259641524048 0.404637996143\n",
      "/Users/Aakash/Desktop/untitledfolder/data/noadvertismentdata/11_20_2015.txt\n",
      "0.341327425301 -0.293621132702 0.365051441997\n",
      "/Users/Aakash/Desktop/untitledfolder/data/noadvertismentdata/11_21_2015.txt\n",
      "0.362908998825 -0.317614730128 0.319476271047\n",
      "/Users/Aakash/Desktop/untitledfolder/data/noadvertismentdata/11_23_2015.txt\n",
      "0.341832605435 -0.211727430556 0.44643996401\n",
      "/Users/Aakash/Desktop/untitledfolder/data/noadvertismentdata/11_25_2015.txt\n",
      "0.374202699851 -0.270775732317 0.355021567832\n",
      "/Users/Aakash/Desktop/untitledfolder/data/noadvertismentdata/11_27_2015.txt\n",
      "0.372641765851 -0.355698743386 0.271659490763\n",
      "/Users/Aakash/Desktop/untitledfolder/data/noadvertismentdata/11_28_2015.txt\n",
      "0.36361653355 -0.241680877306 0.394702589144\n",
      "/Users/Aakash/Desktop/untitledfolder/data/noadvertismentdata/11_29_2015.txt\n",
      "0.401534139987 -0.26714155517 0.331324304842\n",
      "/Users/Aakash/Desktop/untitledfolder/data/noadvertismentdata/11_30_2015.txt\n",
      "0.398960835312 -0.266919193418 0.334119971271\n",
      "/Users/Aakash/Desktop/untitledfolder/data/noadvertismentdata/12_01_2015.txt\n",
      "0.36308143826 -0.286182783219 0.350735778521\n"
     ]
    }
   ],
   "source": [
    "#Run Textbob sentiment on those tweets having no advertisment and are filtered as well \n",
    "\n",
    "no_advertisment_files=get_files(os.getcwd()+os.sep+'data'+os.sep+'noadvertismentdata','.txt')\n",
    "sentiment_of_tweets=run_sentiment(no_advertisment_files)\n",
    "#print sentiment_of_tweets\n",
    "\"\"\" Return a list of tuple having \n",
    "    (filename, avgerage of positive sentiment for that day ,\n",
    "    avgerage of negative sentiment for that day ,Percentage of Positive Tweets for that day,\n",
    "    Percentage of Negative Tweets for that day, Percentage of Neutral Tweets for that day)\n",
    "    Params:\n",
    "        sentiment_of_tweets....A list of Tuple(filename,sentiment for each tweets) \n",
    "    Returns:\n",
    "        tweets_sentiment_per_day...A list  a list of tuple having \n",
    "        (filename, avgerage of positive sentiment for that day ,\n",
    "        avgerage of negative sentiment for that day ,Percentage of Positive Tweets for that day,\n",
    "        Percentage of Negative Tweets for that day, Percentage of Neutral Tweets for that day)\n",
    "\"\"\"\n",
    "def setiment_perday_by_TextBlob(sentiment_of_tweets):\n",
    "    tweets_sentiment_per_day=[]\n",
    "    for filename,alltweets in sentiment_of_tweets:\n",
    "        pos_tweetscount = 0\n",
    "        neg_tweetscount = 0\n",
    "        neu_tweetscount = 0\n",
    "        avg_positive_sentiment_day = 0\n",
    "        avg_negative_sentiment_day=0\n",
    "        pos_tweets=0\n",
    "        neg_tweets =0\n",
    "        percentage_positive_tweets=0\n",
    "        percentage_negative_tweets=0\n",
    "        percentage_neutral_tweets=0\n",
    "        totaltweets_perday=0\n",
    "        for allsentiment in alltweets:\n",
    "            if allsentiment[1]>0:\n",
    "                pos_tweetscount=pos_tweetscount+1\n",
    "                pos_tweets= pos_tweets+allsentiment[1]\n",
    "            elif allsentiment[1]<0:\n",
    "                neg_tweetscount=neg_tweetscount+1\n",
    "                neg_tweets=neg_tweets+allsentiment[1]\n",
    "            else:\n",
    "                neu_tweetscount=neu_tweetscount+1\n",
    "        totaltweets=len(alltweets)\n",
    "        avg_positive_sentiment_day= pos_tweets / pos_tweetscount\n",
    "        avg_negative_sentiment_day= neg_tweets / neg_tweetscount\n",
    "        percentage_positive_tweets = (pos_tweetscount / totaltweets) * 100\n",
    "        percentage_negative_tweets = (neg_tweetscount / totaltweets) * 100\n",
    "        percentage_neutral_tweets = (neu_tweetscount / totaltweets) * 100\n",
    "        tweets_sentiment_per_day.append((filename,avg_positive_sentiment_day,avg_negative_sentiment_day,percentage_positive_tweets,percentage_negative_tweets,percentage_neutral_tweets))                                \n",
    "    return tweets_sentiment_per_day\n",
    "tweets_sentiment_per_day=setiment_perday_by_TextBlob(sentiment_of_tweets)\n",
    "for filename,avgpos,avgneg,perpos,perneg,perneu  in tweets_sentiment_per_day:\n",
    "    print filename \n",
    "    neutral = 1 - (avgpos + abs(avgneg)) \n",
    "    print avgpos,avgneg,neutral"
   ]
  },
  {
   "cell_type": "code",
   "execution_count": 675,
   "metadata": {
    "collapsed": false
   },
   "outputs": [
    {
     "name": "stdout",
     "output_type": "stream",
     "text": [
      "The classifier with classes 0 and 1 is 75.2711864407 precent accurate\n",
      "The classifier with classes 0 and -1 is 66.2033898305 precent accurate\n",
      "The classifier with classes -1 and 1 is 64.2429378531 precent accurate\n",
      "The classifier with classes 0 and 1 is 75.2711864407 precent accurate\n",
      "The classifier with classes 0 and -1 is 66.2033898305 precent accurate\n",
      "The classifier with classes -1 and 1 is 64.2429378531 precent accurate\n",
      "The classifier with classes 0 and 1 is 75.2711864407 precent accurate\n",
      "The classifier with classes 0 and -1 is 66.2033898305 precent accurate\n",
      "The classifier with classes -1 and 1 is 64.2429378531 precent accurate\n",
      "The classifier with classes 0 and 1 is 75.2711864407 precent accurate\n",
      "The classifier with classes 0 and -1 is 66.2033898305 precent accurate\n",
      "The classifier with classes -1 and 1 is 64.2429378531 precent accurate\n",
      "The classifier with classes 0 and 1 is 75.2711864407 precent accurate\n",
      "The classifier with classes 0 and -1 is 66.2033898305 precent accurate\n",
      "The classifier with classes -1 and 1 is 64.2429378531 precent accurate\n",
      "The classifier with classes 0 and 1 is 75.2711864407 precent accurate\n",
      "The classifier with classes 0 and -1 is 66.2033898305 precent accurate\n",
      "The classifier with classes -1 and 1 is 64.2429378531 precent accurate\n",
      "The classifier with classes 0 and 1 is 75.2711864407 precent accurate\n",
      "The classifier with classes 0 and -1 is 66.2033898305 precent accurate\n",
      "The classifier with classes -1 and 1 is 64.2429378531 precent accurate\n",
      "The classifier with classes 0 and 1 is 75.2711864407 precent accurate\n",
      "The classifier with classes 0 and -1 is 66.2033898305 precent accurate\n",
      "The classifier with classes -1 and 1 is 64.2429378531 precent accurate\n",
      "The classifier with classes 0 and 1 is 75.2711864407 precent accurate\n",
      "The classifier with classes 0 and -1 is 66.2033898305 precent accurate\n",
      "The classifier with classes -1 and 1 is 64.2429378531 precent accurate\n",
      "The classifier with classes 0 and 1 is 75.2711864407 precent accurate\n",
      "The classifier with classes 0 and -1 is 66.2033898305 precent accurate\n",
      "The classifier with classes -1 and 1 is 64.2429378531 precent accurate\n",
      "The classifier with classes 0 and 1 is 75.2711864407 precent accurate\n",
      "The classifier with classes 0 and -1 is 66.2033898305 precent accurate\n",
      "The classifier with classes -1 and 1 is 64.2429378531 precent accurate\n",
      "/Users/Aakash/Desktop/untitledfolder/data/noadvertismentdata/11_18_2015.txt\n",
      "(0.2977624784853701, 0.3218588640275387, 0.3803786574870912)\n",
      "/Users/Aakash/Desktop/untitledfolder/data/noadvertismentdata/11_19_2015.txt\n",
      "(0.3439878234398782, 0.2572298325722983, 0.3987823439878234)\n",
      "/Users/Aakash/Desktop/untitledfolder/data/noadvertismentdata/11_20_2015.txt\n",
      "(0.3640776699029126, 0.2297734627831715, 0.40614886731391586)\n",
      "/Users/Aakash/Desktop/untitledfolder/data/noadvertismentdata/11_21_2015.txt\n",
      "(0.2990353697749196, 0.2090032154340836, 0.4919614147909968)\n",
      "/Users/Aakash/Desktop/untitledfolder/data/noadvertismentdata/11_23_2015.txt\n",
      "(0.3129139072847682, 0.271523178807947, 0.4155629139072848)\n",
      "/Users/Aakash/Desktop/untitledfolder/data/noadvertismentdata/11_25_2015.txt\n",
      "(0.3835125448028674, 0.21863799283154123, 0.3978494623655914)\n",
      "/Users/Aakash/Desktop/untitledfolder/data/noadvertismentdata/11_27_2015.txt\n",
      "(0.3758241758241758, 0.23076923076923078, 0.3934065934065934)\n",
      "/Users/Aakash/Desktop/untitledfolder/data/noadvertismentdata/11_28_2015.txt\n",
      "(0.30662020905923343, 0.24390243902439024, 0.44947735191637633)\n",
      "/Users/Aakash/Desktop/untitledfolder/data/noadvertismentdata/11_29_2015.txt\n",
      "(0.3322475570032573, 0.25732899022801303, 0.41042345276872966)\n",
      "/Users/Aakash/Desktop/untitledfolder/data/noadvertismentdata/11_30_2015.txt\n",
      "(0.3483483483483483, 0.26876876876876876, 0.38288288288288286)\n",
      "/Users/Aakash/Desktop/untitledfolder/data/noadvertismentdata/12_01_2015.txt\n",
      "(0.3434991974317817, 0.27929373996789725, 0.37720706260032105)\n"
     ]
    }
   ],
   "source": [
    "no_advertisment_files=get_files(os.getcwd()+os.sep+'data'+os.sep+'noadvertismentdata','.txt')\n",
    "days_Yfinal=[]\n",
    "for filtered_file in no_advertisment_files:\n",
    "    neg_predicted_Y, neg_predict_proba = classify(filtered_file,'0','1')\n",
    "    pos_predicted_Y, pos_predict_proba = classify(filtered_file,'0','-1')\n",
    "    neut_predicted_Y, neut_predict_proba = classify(filtered_file,'-1','1')\n",
    "    Y_final = []\n",
    "    for p_neg,p_pos,p_neut in zip (neg_predict_proba,pos_predict_proba,neut_predict_proba):\n",
    "        Y_final.append(getMostProbableClass([p_neg[0],p_neut[0],p_pos[1]]))\n",
    "    yval=Counter(Y_final)\n",
    "    total= yval[1]+yval[0]+yval[-1]\n",
    "    days_Yfinal.append((filtered_file,(yval[1]/total,yval[-1]/total,yval[0]/total)))\n",
    "for filename,senti in days_Yfinal:\n",
    "    print filename\n",
    "    print senti\n"
   ]
  },
  {
   "cell_type": "code",
   "execution_count": 725,
   "metadata": {
    "collapsed": false
   },
   "outputs": [
    {
     "data": {
      "image/png": "[encoded data removed]",
      "text/plain": [
       "<matplotlib.figure.Figure at 0x10da30550>"
      ]
     },
     "metadata": {},
     "output_type": "display_data"
    },
    {
     "data": {
      "image/png": "[encoded data removed]",
      "text/plain": [
       "<matplotlib.figure.Figure at 0x10dc91a10>"
      ]
     },
     "metadata": {},
     "output_type": "display_data"
    },
    {
     "data": {
      "image/png": "[encoded data removed]",
      "text/plain": [
       "<matplotlib.figure.Figure at 0x10fc10b90>"
      ]
     },
     "metadata": {},
     "output_type": "display_data"
    }
   ],
   "source": [
    "file_names=[]\n",
    "avg_pos_list=[]\n",
    "avg_neg_list=[]\n",
    "avg_neu_list=[]\n",
    "per_pos_list=[]\n",
    "per_pos_list=[]\n",
    "per_neg_list=[]\n",
    "per_neu_list=[]\n",
    "for filename,avgpos,avgneg,perpos,perneg,perneu  in tweets_sentiment_per_day:\n",
    "    neutral = 1 - (avgpos + abs(avgneg)) \n",
    "    updated_file_name=re.sub(os.getcwd()+os.sep+'data'+os.sep+'noadvertismentdata'+os.sep,'', filename)\n",
    "    without_txt=re.sub('.txt','', updated_file_name)\n",
    "    removing_=re.sub('_','/', without_txt)\n",
    "    file_names.append(re.sub('/2015','', removing_))\n",
    "    avg_pos_list.append(avgpos)\n",
    "    avg_neg_list.append(abs(avgneg))\n",
    "    avg_neu_list.append(1-(avgpos+abs(avgneg)))\n",
    "    per_pos_list.append(perpos)\n",
    "    per_neg_list.append(perneg)\n",
    "    per_neu_list.append(perneu)\n",
    "\n",
    "plt.rcParams.update({'font.size': 10})\n",
    "plt.figure()\n",
    "plt.plot(avg_pos_list, 'go-',label=\"pos\")\n",
    "plt.plot(avg_neg_list, 'ro-',label=\"neg\")\n",
    "plt.plot(avg_neu_list, 'bo-',label=\"neu\")\n",
    "plt.xlabel('date')\n",
    "plt.ylabel('sentiment')\n",
    "plt.legend(loc='upper left')\n",
    "plt.xticks(range(len(file_names)), file_names)\n",
    "plt.title('Texblob sentiment Per day')\n",
    "plt.show()\n",
    "    \n",
    "plt.rcParams.update({'font.size': 10})\n",
    "plt.figure()\n",
    "plt.plot(per_pos_list, 'go-',label=\"pos\")\n",
    "plt.plot(per_neg_list, 'ro-',label=\"neg\")\n",
    "plt.plot(per_neu_list, 'bo-',label=\"neu\")\n",
    "plt.xlabel('date')\n",
    "plt.ylabel('Tweets Percentage')\n",
    "plt.legend(loc='upper left')\n",
    "plt.xticks(range(len(file_names)), file_names)\n",
    "plt.title('Texblob Percentage tweets Per day')\n",
    "plt.show()\n",
    "\n",
    "classifire_pos_list=[]\n",
    "classifire_neg_list=[]\n",
    "classifire_neu_list=[]\n",
    "for filename,senti in days_Yfinal:\n",
    "    classifire_pos_list.append(senti[0])\n",
    "    classifire_neg_list.append(senti[1])\n",
    "    classifire_neu_list.append(senti[2])\n",
    "\n",
    "\n",
    "plt.rcParams.update({'font.size': 10})\n",
    "plt.figure()\n",
    "plt.plot(classifire_pos_list, 'go-',label=\"pos\")\n",
    "plt.plot(classifire_neg_list, 'ro-',label=\"neg\")\n",
    "plt.plot(classifire_neu_list, 'bo-',label=\"neu\")\n",
    "plt.xlabel('date')\n",
    "plt.ylabel('sentiments')\n",
    "plt.legend(loc='upper left')\n",
    "plt.xticks(range(len(file_names)), file_names)\n",
    "plt.title('Project classifier sentiment Per day')\n",
    "plt.show()"
   ]
  },
  {
   "cell_type": "code",
   "execution_count": 677,
   "metadata": {
    "collapsed": false
   },
   "outputs": [],
   "source": [
    "import statistics\n",
    "\n",
    "def get_setiment_direction():\n",
    "\n",
    "    \"\"\" A list of Tuple (date, sentiment for that day)\n",
    "    sentiment for that day : is calculated as follows\n",
    "    1: Take mean for all days positive sentiment,negative sentiment,neutral sentiment\n",
    "    2: Calculate differnece for each day for variation in sentiment from its mean\n",
    "       For Postive variation = Postive Mean of alldays - today Postive sentiment\n",
    "    3: Sum all postive,negative and neutral variation to get the sentiment direction for that day\n",
    "    Returns:\n",
    "        A list of Tuple (date, sentiment for that day)\n",
    "    \"\"\"\n",
    "    total_variation=[]\n",
    "    avg_pos_list=[]\n",
    "    avg_neg_list=[]\n",
    "    avg_neu_list=[]\n",
    "    dates=[]\n",
    "    for i in range(len(days_Yfinal)):\n",
    "        filename,avgpos,avgneg,perpos,perneg,perneu=tweets_sentiment_per_day[i]\n",
    "        filename,senti=days_Yfinal[i]\n",
    "        avg_pos_of_day=(avgpos+senti[0])/2\n",
    "        avg_neg_of_day=(abs(avgneg) + senti[1])/2\n",
    "        avg_neu_of_day=(neutral+senti[2])/2\n",
    "        avg_pos_list.append(avg_pos_of_day)\n",
    "        avg_neg_list.append(avg_neg_of_day)\n",
    "        avg_neu_list.append(avg_neu_of_day)\n",
    "        updated_file_name=re.sub(os.getcwd()+os.sep+'data'+os.sep+'noadvertismentdata'+os.sep,'', filename)\n",
    "        dates.append(re.sub('.txt','', updated_file_name))\n",
    "    pos_mean= statistics.mean(avg_pos_list)\n",
    "    neg_mean=  statistics.mean(avg_neg_list)\n",
    "    neu_mean=  statistics.mean(avg_neu_list)\n",
    "    for i in range(len(avg_pos_list)):\n",
    "        pos_variation=pos_mean- avg_pos_list[i]\n",
    "        neg_variation=neg_mean- avg_neg_list[i]\n",
    "        neu_variation=neu_mean- avg_neu_list[i]\n",
    "        #print pos_variation,neg_variation,neu_variation\n",
    "        total_variation.append((dates[i],(pos_variation+neg_variation+neu_variation)))\n",
    "    return total_variation"
   ]
  },
  {
   "cell_type": "code",
   "execution_count": 727,
   "metadata": {
    "collapsed": false
   },
   "outputs": [
    {
     "name": "stdout",
     "output_type": "stream",
     "text": [
      "[('11_18_2015', 0.021412898771619726), ('11_19_2015', 0.021519239415912328), ('11_20_2015', 0.001725962343024412), ('11_21_2015', -0.021061623132375806), ('11_23_2015', 0.042420223349276864), ('11_25_2015', -0.0032889747394810043), ('11_27_2015', -0.044970013274152176), ('11_28_2015', 0.01655153591612729), ('11_29_2015', -0.01513760623444188), ('11_30_2015', -0.01373977302037388), ('12_01_2015', -0.005431869395136235)]\n"
     ]
    },
    {
     "data": {
      "image/png": "[encoded data removed]",
      "text/plain": [
       "<matplotlib.figure.Figure at 0x10f5f9bd0>"
      ]
     },
     "metadata": {},
     "output_type": "display_data"
    }
   ],
   "source": [
    "senti_direction=get_setiment_direction()\n",
    "print senti_direction\n",
    "senti_direc_list=[]\n",
    "for date,senti in senti_direction:\n",
    "    senti_direc_list.append(senti)\n",
    "\n",
    "\n",
    "    \n",
    "    \n",
    "plt.rcParams.update({'font.size': 10})\n",
    "plt.figure()\n",
    "plt.plot(senti_direc_list, 'go-')\n",
    "plt.xlabel('date')\n",
    "plt.ylabel('Moods/Variation')\n",
    "plt.xticks(range(len(file_names)), file_names)\n",
    "plt.title('Sentiment Moods/Variation Per day')\n",
    "plt.show()"
   ]
  },
  {
   "cell_type": "code",
   "execution_count": 750,
   "metadata": {
    "collapsed": false
   },
   "outputs": [
    {
     "name": "stdout",
     "output_type": "stream",
     "text": [
      "[{'Volume': '34701000', 'Symbol': 'AAPL', 'Adj_Close': '117.339996', 'High': '118.809998', 'Low': '116.860001', 'Date': '2015-12-01', 'Close': '117.339996', 'Open': '118.75'}, {'Volume': '37658700', 'Symbol': 'AAPL', 'Adj_Close': '118.300003', 'High': '119.410004', 'Low': '117.75', 'Date': '2015-11-30', 'Close': '118.300003', 'Open': '117.989998'}, {'Volume': '13023700', 'Symbol': 'AAPL', 'Adj_Close': '117.809998', 'High': '118.410004', 'Low': '117.599998', 'Date': '2015-11-27', 'Close': '117.809998', 'Open': '118.290001'}, {'Volume': '21388300', 'Symbol': 'AAPL', 'Adj_Close': '118.029999', 'High': '119.230003', 'Low': '117.919998', 'Date': '2015-11-25', 'Close': '118.029999', 'Open': '119.209999'}, {'Volume': '42803200', 'Symbol': 'AAPL', 'Adj_Close': '118.879997', 'High': '119.349998', 'Low': '117.120003', 'Date': '2015-11-24', 'Close': '118.879997', 'Open': '117.330002'}, {'Volume': '32482500', 'Symbol': 'AAPL', 'Adj_Close': '117.75', 'High': '119.730003', 'Low': '117.339996', 'Date': '2015-11-23', 'Close': '117.75', 'Open': '119.269997'}, {'Volume': '34287100', 'Symbol': 'AAPL', 'Adj_Close': '119.300003', 'High': '119.919998', 'Low': '118.849998', 'Date': '2015-11-20', 'Close': '119.300003', 'Open': '119.199997'}, {'Volume': '43295800', 'Symbol': 'AAPL', 'Adj_Close': '118.779999', 'High': '119.75', 'Low': '116.760002', 'Date': '2015-11-19', 'Close': '118.779999', 'Open': '117.639999'}, {'Volume': '46674700', 'Symbol': 'AAPL', 'Adj_Close': '117.290001', 'High': '117.489998', 'Low': '115.50', 'Date': '2015-11-18', 'Close': '117.290001', 'Open': '115.760002'}]\n",
      "['AAPL', '117.339996', '118.809998', '116.860001', '2015-12-01', '117.339996', '118.75']\n",
      "['AAPL', '118.300003', '119.410004', '117.75', '2015-11-30', '118.300003', '117.989998']\n",
      "['AAPL', '117.809998', '118.410004', '117.599998', '2015-11-27', '117.809998', '118.290001']\n",
      "['AAPL', '118.029999', '119.230003', '117.919998', '2015-11-25', '118.029999', '119.209999']\n",
      "['AAPL', '118.879997', '119.349998', '117.120003', '2015-11-24', '118.879997', '117.330002']\n",
      "['AAPL', '117.75', '119.730003', '117.339996', '2015-11-23', '117.75', '119.269997']\n",
      "['AAPL', '119.300003', '119.919998', '118.849998', '2015-11-20', '119.300003', '119.199997']\n",
      "['AAPL', '118.779999', '119.75', '116.760002', '2015-11-19', '118.779999', '117.639999']\n",
      "['AAPL', '117.290001', '117.489998', '115.50', '2015-11-18', '117.290001', '115.760002']\n"
     ]
    }
   ],
   "source": [
    "\n",
    "from yahoo_finance import Share\n",
    "import csv\n",
    "def getStockData(start_date,end_date,company,file_name):\n",
    "    company_share = Share(company)\n",
    "    stock_data_list = company_share.get_historical(start_date,end_date)\n",
    "    print stock_data_list\n",
    "    with open(file_name, 'ab') as fp:\n",
    "        csv_writer = csv.writer(fp, delimiter=',')\n",
    "        for record in stock_data_list:\n",
    "            print record.values()[1:] \n",
    "            #csv_writer.writerow(record.values()[1:])\n",
    "    \n",
    "    \n",
    "    \n",
    "    \n",
    "stock_data_list=getStockData('2015-11-18','2015-12-01','AAPL','apple.csv')"
   ]
  },
  {
   "cell_type": "code",
   "execution_count": 728,
   "metadata": {
    "collapsed": false
   },
   "outputs": [
    {
     "name": "stdout",
     "output_type": "stream",
     "text": [
      "12-01-2015 same\n",
      "-0.00543186939514 -1.410004\n",
      "11-30-2015 opposite\n",
      "-0.0137397730204 0.310005\n",
      "11-27-2015 same\n",
      "-0.0449700132742 -0.480003\n",
      "11-25-2015 same\n",
      "-0.00328897473948 -1.18\n",
      "11-23-2015 opposite\n",
      "0.0424202233493 -1.519997\n",
      "11-20-2015 same\n",
      "0.00172596234302 0.100006\n",
      "11-19-2015 same\n",
      "0.0215192394159 1.14\n",
      "11-18-2015 same\n",
      "0.0214128987716 1.529999\n"
     ]
    }
   ],
   "source": [
    "def get_stock_open_close_diff(filename):\n",
    "    #print \"running for file name \",filename\n",
    "    readFile = open(filename, 'rb')\n",
    "    stock_val_diff=[]\n",
    "    file_reader = csv.reader(readFile, delimiter=',', quotechar='\"')\n",
    "    for row in file_reader:\n",
    "        stock_val_diff.append((row[4],(float(row[5])-float(row[6]))))\n",
    "    return stock_val_diff\n",
    "\n",
    "def match_stock_direction(stock_val_dif):\n",
    "    stock_dates=[]\n",
    "    setiment_dates=[]\n",
    "    senti_stock_comparison = []\n",
    "    for date,stock_val in stock_val_dif:\n",
    "        for senti_date,sentiment in senti_direction:\n",
    "            if re.sub('_' ,'-', senti_date)==date:\n",
    "                direction_match='opposite'\n",
    "                if stock_val>0 and sentiment>0:\n",
    "                    direction_match='same'\n",
    "                elif stock_val<0 and sentiment<0:\n",
    "                    direction_match='same'\n",
    "                senti_stock_comparison.append((date,direction_match,sentiment,stock_val))\n",
    "    return senti_stock_comparison\n",
    "\n",
    "stock_val_dif=get_stock_open_close_diff('apple.csv')\n",
    "senti_stock_comparison=match_stock_direction(stock_val_dif)\n",
    "\n",
    "\n"
   ]
  },
  {
   "cell_type": "code",
   "execution_count": 744,
   "metadata": {
    "collapsed": false
   },
   "outputs": [
    {
     "name": "stdout",
     "output_type": "stream",
     "text": [
      "[-0.18957658738577068, -0.47952907022946467, -1.5694894392785301, -0.11478784958767863, 1.4804997310684418, 0.06023746654142639, 0.7510386710068729, 0.7473272974485456]\n",
      "[-1.4100040000000007, 0.31000500000000386, -0.4800030000000106, -1.1799999999999926, -1.5199970000000036, 0.10000600000000759, 1.1400000000000006, 1.5299990000000037]\n"
     ]
    },
    {
     "data": {
      "image/png": "[encoded data removed]",
      "text/plain": [
       "<matplotlib.figure.Figure at 0x10fc67f50>"
      ]
     },
     "metadata": {},
     "output_type": "display_data"
    }
   ],
   "source": [
    "senti_val_list=[]\n",
    "stock_val_list=[]\n",
    "stock_days_list=[]\n",
    "for date,direction,senti_val,stock_val in senti_stock_comparison:\n",
    "    senti_val_list.append(senti_val*34.9008)\n",
    "    stock_val_list.append(stock_val)\n",
    "    updated_file_name=re.sub('-2015','', date)\n",
    "    stock_days_list.append(re.sub('-','/', updated_file_name))\n",
    "print senti_val_list\n",
    "print stock_val_list\n",
    "    \n",
    "plt.rcParams.update({'font.size': 10})\n",
    "plt.figure()\n",
    "plt.plot(senti_val_list, 'go-',label=\"sentiment/moood\")\n",
    "plt.plot(stock_val_list, 'bo-',label=\"Stock\")\n",
    "plt.xlabel('date')\n",
    "plt.ylabel('Stock and sentiment')\n",
    "plt.legend(loc='upper left')\n",
    "plt.xticks(range(len(stock_days_list)), stock_days_list)\n",
    "plt.title('Sentiment vs stock plot')\n",
    "plt.show()"
   ]
  },
  {
   "cell_type": "code",
   "execution_count": 748,
   "metadata": {
    "collapsed": false
   },
   "outputs": [
    {
     "name": "stdout",
     "output_type": "stream",
     "text": [
      "(-1.4100040000000007, -0.1895770118929552) (0.31000500000000386, -0.47953014400939864) (-0.4800030000000106, -3.0006730885931976) (-1.1799999999999926, -0.22723049890281943)\n"
     ]
    }
   ],
   "source": [
    "def predict_stock(beforeday):\n",
    "    stockvalfordays=[]\n",
    "    sentivalfordays=[]\n",
    "    for i in range(len(senti_stock_comparison)-1,beforeday,-1):\n",
    "        date,direction,senti_val,stockval=senti_stock_comparison[i]\n",
    "        stockvalfordays.append(stockval)\n",
    "        sentivalfordays.append(senti_val)\n",
    "    stock_range=max(stockvalfordays)+abs(min(stockvalfordays))\n",
    "    steni_range=max(sentivalfordays)+abs(min(sentivalfordays))\n",
    "    threashold=stock_range/steni_range\n",
    "    date,direction,senti_val,stockval=senti_stock_comparison[beforeday]\n",
    "    return((stockval,senti_val*threashold))\n",
    "print predict_stock(0),predict_stock(1),predict_stock(2),predict_stock(3)"
   ]
  },
  {
   "cell_type": "code",
   "execution_count": 754,
   "metadata": {
    "collapsed": true
   },
   "outputs": [],
   "source": [
    "def get_stock_close_value(filename):\n",
    "    #print \"running for file name \",filename\n",
    "    readFile = open(filename, 'rb')\n",
    "    stock_closing_val=[]\n",
    "    file_reader = csv.reader(readFile, delimiter=',', quotechar='\"')\n",
    "    for row in file_reader:\n",
    "        stock_closing_val.append((row[4],float(row[6])))\n",
    "    return stock_closing_val\n",
    " "
   ]
  },
  {
   "cell_type": "code",
   "execution_count": 763,
   "metadata": {
    "collapsed": false
   },
   "outputs": [
    {
     "data": {
      "image/png": "[encoded data removed]",
      "text/plain": [
       "<matplotlib.figure.Figure at 0x10d957610>"
      ]
     },
     "metadata": {},
     "output_type": "display_data"
    }
   ],
   "source": [
    "\n",
    "stock_closing_val=get_stock_close_value('apple.csv')\n",
    "actual_stock_closing_list=[]\n",
    "predicted_stock_closing_list=[]\n",
    "datelist=[]\n",
    "for i in range(4):\n",
    "    date,openvalue=stock_closing_val[i]\n",
    "    actualvalue,predictedvalue=predict_stock(i)\n",
    "    actual_stock_closing_list.append(openvalue+actualvalue)\n",
    "    predicted_stock_closing_list.append((openvalue+predictedvalue))\n",
    "    datelist.append(date)\n",
    "\n",
    "plt.rcParams.update({'font.size': 10})\n",
    "plt.figure()\n",
    "plt.plot(actual_stock_closing_list, 'go-',label='Actual')\n",
    "plt.plot(predicted_stock_closing_list, 'bo-',label=\"predicted\")\n",
    "plt.xlabel('date')\n",
    "plt.ylabel('Stock closing value')\n",
    "plt.legend(loc='upper left')\n",
    "plt.xticks(range(len(datelist)), datelist)\n",
    "plt.title('AAPL closing Actual VS Predicted')\n",
    "plt.show()"
   ]
  },
  {
   "cell_type": "code",
   "execution_count": null,
   "metadata": {
    "collapsed": true
   },
   "outputs": [],
   "source": []
  }
 ],
 "metadata": {
  "kernelspec": {
   "display_name": "Python 2",
   "language": "python",
   "name": "python2"
  },
  "language_info": {
   "codemirror_mode": {
    "name": "ipython",
    "version": 2
   },
   "file_extension": ".py",
   "mimetype": "text/x-python",
   "name": "python",
   "nbconvert_exporter": "python",
   "pygments_lexer": "ipython2",
   "version": "2.7.10"
  }
 },
 "nbformat": 4,
 "nbformat_minor": 0
}
