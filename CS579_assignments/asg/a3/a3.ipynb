{
 "cells": [
  {
   "cell_type": "markdown",
   "metadata": {},
   "source": [
    "# CS579: Assignment 3\n",
    "\n",
    "In this assignment, you will fit a text classifier to categorize movie reviews by sentiment."
   ]
  },
  {
   "cell_type": "code",
   "execution_count": 152,
   "metadata": {
    "collapsed": false
   },
   "outputs": [],
   "source": [
    "from collections import Counter\n",
    "import glob\n",
    "import hashlib\n",
    "import io\n",
    "import math\n",
    "import matplotlib.pyplot as plt\n",
    "import numpy as np\n",
    "import os\n",
    "import re\n",
    "from sklearn.cross_validation import KFold\n",
    "from sklearn.feature_extraction.text import CountVectorizer\n",
    "from sklearn.linear_model import LogisticRegression\n",
    "from sklearn.metrics import accuracy_score\n",
    "from collections import defaultdict\n",
    "from scipy.sparse import lil_matrix\n",
    "from scipy.sparse import csr_matrix\n",
    "import tarfile\n",
    "from urllib import urlretrieve\n",
    "%matplotlib inline"
   ]
  },
  {
   "cell_type": "code",
   "execution_count": 153,
   "metadata": {
    "collapsed": false
   },
   "outputs": [],
   "source": [
    "def get_data():\n",
    "    \"\"\" Download and unzip data.\"\"\"\n",
    "    urlretrieve('https://www.dropbox.com/s/xk4glpk61q3qrg2/imdb.tgz?dl=1', 'imdb.tgz')\n",
    "    tar = tarfile.open(\"imdb.tgz\")\n",
    "    tar.extractall()\n",
    "    tar.close()\n",
    "    \n",
    "get_data()"
   ]
  },
  {
   "cell_type": "code",
   "execution_count": 154,
   "metadata": {
    "collapsed": false
   },
   "outputs": [
    {
     "name": "stdout",
     "output_type": "stream",
     "text": [
      "subdirectories are:['.DS_Store', 'test', 'train']\n"
     ]
    }
   ],
   "source": [
    "# Here is the path to the data directory.\n",
    "path = 'data'\n",
    "print('subdirectories are:' + str(os.listdir(path)))"
   ]
  },
  {
   "cell_type": "code",
   "execution_count": 155,
   "metadata": {
    "collapsed": false
   },
   "outputs": [],
   "source": [
    "def get_files(path):\n",
    "    \"\"\" Return a list of file names in this directory that end in .txt \n",
    "    The list should be sorted alphabetically by file name.\n",
    "    Params:\n",
    "        path....a directory containing .txt review files.\n",
    "    Returns:\n",
    "        a list of .txt file names, sorted alphabetically.\n",
    "    \"\"\"\n",
    "    ###TODO\n",
    "    ###\n",
    "    files=[]\n",
    "    for file in os.listdir(path):\n",
    "        if(file.endswith('.txt')):\n",
    "            files.append(path + os.sep + file);\n",
    "    return files"
   ]
  },
  {
   "cell_type": "code",
   "execution_count": 156,
   "metadata": {
    "collapsed": false,
    "scrolled": true
   },
   "outputs": [
    {
     "name": "stdout",
     "output_type": "stream",
     "text": [
      "found 200 positive and 200 negative training files\n",
      "first positive file: data/train/pos/10057_9.txt\n",
      "first negative file: data/train/neg/10108_1.txt\n"
     ]
    }
   ],
   "source": [
    "pos_train_files = get_files(path + os.sep + 'train' + os.sep + 'pos')\n",
    "neg_train_files = get_files(path + os.sep + 'train' + os.sep + 'neg')\n",
    "\n",
    "\n",
    "all_train_files = pos_train_files + neg_train_files\n",
    "\n",
    "print('found %d positive and %d negative training files' %\n",
    "      (len(pos_train_files), len(neg_train_files)))\n",
    "print('first positive file: %s' % pos_train_files[0])\n",
    "print('first negative file: %s' % neg_train_files[0])"
   ]
  },
  {
   "cell_type": "code",
   "execution_count": 157,
   "metadata": {
    "collapsed": false
   },
   "outputs": [
    {
     "name": "stdout",
     "output_type": "stream",
     "text": [
      "first 3 and last 3 labels are: [ 1.  1.  1.  0.  0.  0.]\n"
     ]
    }
   ],
   "source": [
    "def get_true_labels(file_names):\n",
    "    \"\"\"Return a *numpy array* of ints for the true sentiment labels of each file.\n",
    "    1 means positive, 0 means negative. Use the name of the file to determine\n",
    "    the true label.\n",
    "    Params:\n",
    "        file_names....a list of .txt file paths, e.g., data/train/pos/10057_9.txt\n",
    "    Returns:\n",
    "        a numpy array of 1 or 0 values corresponding to each element\n",
    "        of file_names, where 1 indicates a positive review, and 0\n",
    "        indicates a negative review.\n",
    "    \"\"\"\n",
    "    ###TODO\n",
    "    ###\n",
    "    pos_count=0\n",
    "    neg_count=0\n",
    "    arr=np.zeros([len(file_names)], dtype=int)\n",
    "    for file in file_names:\n",
    "        if file in pos_train_files: \n",
    "            pos_count+=1\n",
    "        elif file in neg_train_files:   \n",
    "            neg_count+=1\n",
    "    return np.append(np.ones(pos_count),np.zeros(neg_count))\n",
    "labels = get_true_labels(all_train_files)\n",
    "print('first 3 and last 3 labels are: %s' % str(labels[[1,2,3,-3,-2,-1]]))"
   ]
  },
  {
   "cell_type": "code",
   "execution_count": 158,
   "metadata": {
    "collapsed": false
   },
   "outputs": [
    {
     "data": {
      "text/plain": [
       "u\"This is a great film!! The first time I saw it I thought it was absorbing from start to finish and I still do now. I may not have seen the play, but even if I had it wouldn't stop me thinking that the film is just as good.\""
      ]
     },
     "execution_count": 158,
     "metadata": {},
     "output_type": "execute_result"
    }
   ],
   "source": [
    "# Here's what a positive review looks like.\n",
    "def file2string(filename):\n",
    "    return io.open(filename, encoding='utf8').readlines()[0]\n",
    "\n",
    "file2string(pos_train_files[10])\n"
   ]
  },
  {
   "cell_type": "code",
   "execution_count": 159,
   "metadata": {
    "collapsed": false
   },
   "outputs": [
    {
     "data": {
      "text/plain": [
       "['hi',\n",
       " 'how',\n",
       " 's',\n",
       " 'it',\n",
       " 'going',\n",
       " 'an_underscore',\n",
       " 'is',\n",
       " 'not',\n",
       " 'really',\n",
       " 'punctuation']"
      ]
     },
     "execution_count": 159,
     "metadata": {},
     "output_type": "execute_result"
    }
   ],
   "source": [
    "def tokenize(text):\n",
    "    \"\"\"Given a string, return a list of tokens such that: (1) all\n",
    "    tokens are lowercase, (2) all punctuation is removed. Note that\n",
    "    underscore (_) is not considered punctuation.\n",
    "    UPDATE: To be more specific, a token is a sequence of \n",
    "    alphanumeric characters, i.e., [A-Za-z0-9_]. Non-ascii characters\n",
    "    are not considered to be part of tokens.\n",
    "    Params:\n",
    "        text....a string\n",
    "    Returns:\n",
    "        a list of tokens\n",
    "    \"\"\"\n",
    "    ###TODO\n",
    "    ###\n",
    "    return re.findall(r\"[\\w]+\", text.lower())\n",
    "tokenize(\"Hi! How's it going??? an_underscore is not *really* punctuation.\")"
   ]
  },
  {
   "cell_type": "code",
   "execution_count": 160,
   "metadata": {
    "collapsed": false,
    "scrolled": true
   },
   "outputs": [
    {
     "name": "stdout",
     "output_type": "stream",
     "text": [
      "matrix represents 400 documents with 10710 features\n",
      "first doc has terms:\n",
      "[128, 170, 202, 253, 260, 312, 355, 439, 504, 514, 560, 673, 683, 702, 750, 860, 869, 961, 985, 1013, 1222, 1254, 1312, 1341, 1403, 1444, 1451, 1469, 1504, 1658, 1665, 1743, 2465, 2537, 2996, 3109, 3206, 3229, 3356, 3368, 3515, 3634, 3706, 3716, 3759, 3810, 3926, 4015, 4059, 4061, 4087, 4139, 4205, 4207, 4222, 4309, 4366, 4384, 4412, 4435, 4472, 4510, 4524, 4631, 4690, 4757, 4798, 5062, 5074, 5225, 5274, 5287, 5289, 5312, 5360, 5418, 5609, 5610, 5646, 5693, 5761, 5888, 5932, 5948, 6116, 6243, 6258, 6294, 6424, 6440, 6579, 6620, 6676, 6696, 6860, 6942, 7094, 7626, 8052, 8248, 8336, 8341, 8474, 8767, 8988, 9204, 9412, 9436, 9440, 9505, 9508, 9523, 9550, 9558, 9634, 9684, 9690, 9835, 9855, 9857, 10047, 10337, 10353, 10431, 10441, 10446, 10448, 10519]\n"
     ]
    }
   ],
   "source": [
    "def do_vectorize(filenames, tokenizer_fn=tokenize, min_df=1,\n",
    "                 max_df=1., binary=True, ngram_range=(1,1)):\n",
    "    \"\"\"\n",
    "    Convert a list of filenames into a sparse csr_matrix, where\n",
    "    each row is a file and each column represents a unique word.\n",
    "    Use sklearn's CountVectorizer: http://goo.gl/eJ2PJ5\n",
    "    Params:\n",
    "        filenames.......list of review file names\n",
    "        tokenizer_fn....the function used to tokenize each document\n",
    "        min_df..........remove terms from the vocabulary that don't appear\n",
    "                        in at least this many documents\n",
    "        max_df..........remove terms from the vocabulary that appear in more\n",
    "                        than this fraction of documents\n",
    "        binary..........If true, each documents is represented by a binary\n",
    "                        vector, where 1 means a term occurs at2 least once in \n",
    "                        the document. If false, the term frequency is used instead.\n",
    "        ngram_range.....A tuple (n,m) means to use phrases of length n to m inclusive.\n",
    "                        E.g., (1,2) means consider unigrams and bigrams.\n",
    "    Return:\n",
    "        A tuple (X, vec), where X is the csr_matrix of feature vectors,\n",
    "        and vec is the CountVectorizer object.\n",
    "    \"\"\"\n",
    "    ###TODO\n",
    "    ###\n",
    "    vector = CountVectorizer(tokenizer=tokenizer_fn, \n",
    "                             min_df=min_df,\n",
    "                             max_df=max_df,\n",
    "                             binary=binary,\n",
    "                             input='filename', \n",
    "                             ngram_range=ngram_range)\n",
    "    data = vector.fit_transform(filenames)\n",
    "    return (data,vector)\n",
    "matrix, vec = do_vectorize(all_train_files)\n",
    "print ('matrix represents %d documents with %d features' % (matrix.shape[0], matrix.shape[1]))\n",
    "print('first doc has terms:\\n%s' % (str(sorted(matrix[0].nonzero()[1]))))"
   ]
  },
  {
   "cell_type": "code",
   "execution_count": 161,
   "metadata": {
    "collapsed": false
   },
   "outputs": [
    {
     "name": "stdout",
     "output_type": "stream",
     "text": [
      "first shuffled document data/train/pos/5140_10.txt has label 1 and terms: [98, 170, 355, 384, 514, 720, 750, 780, 1225, 2234, 3356, 3682, 3916, 4015, 4397, 4690, 4798, 5074, 5080, 5764, 5948, 6579, 6782, 6950, 7899, 8186, 8587, 9045, 9508, 9550, 9609, 9827, 10003, 10421, 10640]\n"
     ]
    }
   ],
   "source": [
    "# Do not modify. This is to randomize the order of the documents, but\n",
    "# in a way that is consistent across platforms.\n",
    "# See: http://stackoverflow.com/a/18992474/1756896\n",
    "# You should run this block once to get the shuffled data.\n",
    "def repeatable_random(seed):\n",
    "    hash = str(seed)\n",
    "    while True:\n",
    "        hash = hashlib.md5(hash).digest()\n",
    "        for c in hash:\n",
    "            yield ord(c)\n",
    "\n",
    "def repeatable_shuffle(X, y, filenames):\n",
    "    r = repeatable_random(42) \n",
    "    indices = sorted(range(X.shape[0]), key=lambda x: next(r))\n",
    "    return X[indices], y[indices], np.array(filenames)[indices]\n",
    "\n",
    "X, y, filenames = repeatable_shuffle(matrix, labels, all_train_files)\n",
    "\n",
    "print('first shuffled document %s has label %d and terms: %s' % \n",
    "      (filenames[0], y[0], sorted(X[0].nonzero()[1])))"
   ]
  },
  {
   "cell_type": "code",
   "execution_count": 162,
   "metadata": {
    "collapsed": true
   },
   "outputs": [],
   "source": [
    "# Do not modify. This creates a LogsticRegression object, which\n",
    "# you will use in the do_cross_validation method below.\n",
    "def get_clf():\n",
    "    return LogisticRegression(random_state=42)"
   ]
  },
  {
   "cell_type": "code",
   "execution_count": 163,
   "metadata": {
    "collapsed": false
   },
   "outputs": [
    {
     "name": "stdout",
     "output_type": "stream",
     "text": [
      "fold 0 accuracy= 0.7125\n",
      "fold 1 accuracy= 0.7750\n",
      "fold 2 accuracy= 0.7750\n",
      "fold 3 accuracy= 0.7250\n",
      "fold 4 accuracy= 0.7125\n",
      "average cross validation accuracy=0.7400\n"
     ]
    }
   ],
   "source": [
    "def do_cross_validation(X, y, n_folds=5, verbose=False):\n",
    "    \"\"\"\n",
    "    Perform n-fold cross validation, calling get_clf() to train n\n",
    "    different classifiers. Use sklearn's KFold class: http://goo.gl/wmyFhi\n",
    "    Be sure not to shuffle the data, otherwise your output will differ.\n",
    "    Params:\n",
    "        X.........a csr_matrix of feature vectors\n",
    "        y.........the true labels of each document\n",
    "        n_folds...the number of folds of cross-validation to do\n",
    "        verbose...If true, report the testing accuracy for each fold.\n",
    "    Return:\n",
    "        the average testing accuracy across all folds.\n",
    "    \"\"\"\n",
    "    ###TODO\n",
    "    ###\n",
    "    accu = 0\n",
    "    cross_validation = KFold(len(y),n_folds,shuffle=False)\n",
    "    fold_count=0\n",
    "    for train_index, test_index in cross_validation:\n",
    "        clf = LogisticRegression()\n",
    "        clf.fit(X[train_index], y[train_index])\n",
    "        predicted = clf.predict(X[test_index])\n",
    "        accuracy = accuracy_score(y[test_index], predicted)\n",
    "        if(verbose):\n",
    "            print('fold %d accuracy= %.4f' % (fold_count,accuracy))\n",
    "        accu+=accuracy\n",
    "        fold_count+=1\n",
    "    return accu/fold_count\n",
    " \n",
    "print('average cross validation accuracy=%.4f' %\n",
    "      do_cross_validation(X, y, verbose=True))"
   ]
  },
  {
   "cell_type": "code",
   "execution_count": 164,
   "metadata": {
    "collapsed": false
   },
   "outputs": [],
   "source": [
    "def do_expt(filenames, y, tokenizer_fn=tokenize,\n",
    "            min_df=1, max_df=1., binary=True,\n",
    "            ngram_range=(1,1), n_folds=5):\n",
    "    \"\"\"\n",
    "    Run one experiment, which consists of vectorizing each file,\n",
    "    performing cross-validation, and returning the average accuracy.\n",
    "    You should call do_vectorize and do_cross_validation here.\n",
    "    Params:\n",
    "        filenames.......list of review file names\n",
    "        y...............the true sentiment labels for each file\n",
    "        tokenizer_fn....the function used to tokenize each document\n",
    "        min_df..........remove terms from the vocabulary that don't appear\n",
    "                        in at least this many documents\n",
    "        max_df..........remove terms from the vocabulary that appear in more\n",
    "                        than this fraction of documents\n",
    "        binary..........If true, each documents is represented by a binary\n",
    "                        vector, where 1 means a term occurs at least once in \n",
    "                        the document. If false, the term frequency is used instead.\n",
    "        ngram_range.....A tuple (n,m) means to use phrases of length n to m inclusive.\n",
    "                        E.g., (1,2) means consider unigrams and bigrams.\n",
    "        n_folds.........The number of cross-validation folds to use.\n",
    "    Returns:\n",
    "        the average cross validation testing accuracy.\n",
    "    \"\"\"\n",
    "    ###TODO\n",
    "    ###\n",
    "    mat, vec = do_vectorize(filenames,tokenizer_fn,min_df,max_df,binary,ngram_range)\n",
    "    return do_cross_validation(mat, y,n_folds)"
   ]
  },
  {
   "cell_type": "code",
   "execution_count": 165,
   "metadata": {
    "collapsed": false
   },
   "outputs": [
    {
     "name": "stdout",
     "output_type": "stream",
     "text": [
      "accuracy using default settings: 0.74\n"
     ]
    }
   ],
   "source": [
    "print('accuracy using default settings: %.4g' % do_expt(filenames, y))"
   ]
  },
  {
   "cell_type": "markdown",
   "metadata": {},
   "source": [
    "## Compare accuracy of various settings\n",
    "\n",
    "Next, we'll try out a few different settings to see how they affect cross-validation accuracy."
   ]
  },
  {
   "cell_type": "code",
   "execution_count": 166,
   "metadata": {
    "collapsed": false
   },
   "outputs": [
    {
     "data": {
      "image/png": "[encoded data removed]",
      "text/plain": [
       "<matplotlib.figure.Figure at 0x10b0ab390>"
      ]
     },
     "metadata": {},
     "output_type": "display_data"
    },
    {
     "data": {
      "text/plain": [
       "[0.69999999999999996, 0.73999999999999999, 0.745, 0.75250000000000006]"
      ]
     },
     "execution_count": 166,
     "metadata": {},
     "output_type": "execute_result"
    }
   ],
   "source": [
    "def compare_n_folds(filenames, y):\n",
    "    \"\"\"\n",
    "    Vary the setting of n_folds parameter in the do_expt \n",
    "    function to be in [2,5,10,20]. For each setting, call do_expt and \n",
    "    store the resulting accuracy. Plot the accuracies for each setting.\n",
    "    Also return the list of accuracies. Use the default value for all\n",
    "    other arguments to the do_expt function.\n",
    "    Params:\n",
    "        filenames....list of training file names\n",
    "        y............true labels for each file (a numpy array)\n",
    "    Returns:\n",
    "        a list of average testing accuracies, one per fold.\n",
    "    \"\"\"\n",
    "    ###TODO\n",
    "    ###\n",
    "    folds=[2,5,10,20]\n",
    "    accu=[]\n",
    "    for n,value in enumerate(folds):\n",
    "        accu.append(do_expt(filenames, y,n_folds=value))\n",
    "    plt.figure()\n",
    "    plt.plot(accu, 'bo-')\n",
    "    plt.xlabel('n_folds')\n",
    "    plt.ylabel('accuracy')\n",
    "    plt.xticks(range(len(folds)), folds)\n",
    "    plt.show()\n",
    " \n",
    "    return accu\n",
    "compare_n_folds(filenames, y)"
   ]
  },
  {
   "cell_type": "markdown",
   "metadata": {},
   "source": [
    "Why do you think accuracy increases as the number of folds increases?\n",
    "Ans- \n",
    "As the number of folds increases, more cross validations are performed, on random datasets. This increases the accuracy as a small training data is validated against a large testing data, and due to higher number of folds, this operation is performed multiple times.\n",
    "```\n",
    "###TODO\n",
    "###\n",
    "```\n",
    "\n",
    "\n",
    "\n",
    "\n",
    "\n"
   ]
  },
  {
   "cell_type": "code",
   "execution_count": 167,
   "metadata": {
    "collapsed": false
   },
   "outputs": [
    {
     "data": {
      "text/plain": [
       "[0.73999999999999999, 0.69999999999999996]"
      ]
     },
     "execution_count": 167,
     "metadata": {},
     "output_type": "execute_result"
    }
   ],
   "source": [
    "def compare_binary(filenames, y):\n",
    "    \"\"\"\n",
    "    How does the binary parameter affect results? \n",
    "    Call do_expt twice, once with binary=True, and once with binary=False.\n",
    "    Return the average accuracies for each. Use the default parameters for the\n",
    "    remaining arguments in do_expt.\n",
    "    Params:\n",
    "        filenames....list of training file names\n",
    "        y............true labels for each file (a numpy array)\n",
    "    Returns:\n",
    "        a list of average testing accuracies. The first entry\n",
    "        is for binary=True, the second is for binary=False.\n",
    "    \"\"\"\n",
    "    ###TODO\n",
    "    ###\n",
    "    accu=[]\n",
    "    accu.append(do_expt(filenames, y,binary=True))\n",
    "    accu.append(do_expt(filenames, y,binary=False))\n",
    "    return accu\n",
    "          \n",
    "compare_binary(filenames, y)"
   ]
  },
  {
   "cell_type": "markdown",
   "metadata": {},
   "source": [
    "Why do you think using binary feature vectors does better than using term frequency?\n",
    "Ans- Using binary feature vectors converts all nonzero values to 1. It reduces bias towards a single term and treats the weightage of the terms equally. It is possible that a term may appear again and again, in a file, in a different context that we are assuming. Using term frequency will increase the bias towards that term and will reduce the accuracy.\n",
    "```\n",
    "###TODO\n",
    "###\n",
    "```\n",
    "\n",
    "\n",
    "\n",
    "\n",
    "\n"
   ]
  },
  {
   "cell_type": "markdown",
   "metadata": {},
   "source": [
    "** Next, we will compare three different tokenization functions. **"
   ]
  },
  {
   "cell_type": "code",
   "execution_count": 168,
   "metadata": {
    "collapsed": false,
    "scrolled": true
   },
   "outputs": [
    {
     "data": {
      "text/plain": [
       "['hi',\n",
       " '!',\n",
       " 'how',\n",
       " \"'\",\n",
       " 's',\n",
       " 'it',\n",
       " 'going',\n",
       " '?',\n",
       " '?',\n",
       " '?',\n",
       " 'an_underscore',\n",
       " 'fiance',\n",
       " 'is',\n",
       " 'not',\n",
       " '*',\n",
       " 'really',\n",
       " '*',\n",
       " 'punctuation',\n",
       " '.']"
      ]
     },
     "execution_count": 168,
     "metadata": {},
     "output_type": "execute_result"
    }
   ],
   "source": [
    "def tokenize_with_punct(text):\n",
    "    \"\"\"Given a string, return a list of tokens such that: (1) all\n",
    "    tokens are lowercase, (2) all punctuation is kept as separate tokens.\n",
    "    Note that underscore (_) is not considered punctuation.\n",
    "    Params:\n",
    "        text....a string\n",
    "    Returns:\n",
    "        a list of tokens\n",
    "    \"\"\"\n",
    "    ###TODO\n",
    "    ###\n",
    "    return re.findall(r\"[\\w]+|\\S\", text.lower())\n",
    "\n",
    "tokenize_with_punct(\"Hi! How's it going??? an_underscore fiance is not *really* punctuation.\")"
   ]
  },
  {
   "cell_type": "markdown",
   "metadata": {},
   "source": [
    "A common problem in sentiment analysis is **negation.** E.g., \"This movie is **not** good\" and \"This movie is good\" will have very similar feature vectors. However, the term **good** in the first sentence is clearly being used differently than in the second sentence. The tokenizer below attempts to distinguish between these cases."
   ]
  },
  {
   "cell_type": "code",
   "execution_count": 169,
   "metadata": {
    "collapsed": false
   },
   "outputs": [
    {
     "data": {
      "text/plain": [
       "['this',\n",
       " 'movie',\n",
       " 'is',\n",
       " 'not',\n",
       " 'not_good',\n",
       " 'not_.',\n",
       " 'in',\n",
       " 'fact',\n",
       " ',',\n",
       " 'it',\n",
       " 'is',\n",
       " 'not',\n",
       " 'not_even',\n",
       " 'not_really',\n",
       " 'a',\n",
       " 'movie',\n",
       " '.']"
      ]
     },
     "execution_count": 169,
     "metadata": {},
     "output_type": "execute_result"
    }
   ],
   "source": [
    "def tokenize_with_not(text):\n",
    "    \"\"\"Does the same thing as tokenize_with_punct, with the following difference:\n",
    "    whenever the term 'not' appears, change the two subsequent tokens to have the prefix\n",
    "    'not_' prior to the token. See the example below. You may call \n",
    "    tokenize_with_punct as a subroutine.\n",
    "    Params:\n",
    "        text....a string\n",
    "    Returns:\n",
    "        a list of tokens\n",
    "    \"\"\"\n",
    "    ###TODO\n",
    "    ###\n",
    "    tokens = tokenize_with_punct(text);\n",
    "    count=0;\n",
    "    for token in tokens:\n",
    "        if('not'==token):\n",
    "            count= 2\n",
    "        elif(count > 0):\n",
    "            loc = tokens.index(token)\n",
    "            tokens.remove(token)\n",
    "            tokens.insert(loc, \"not_\"+token)\n",
    "            count-=1;\n",
    "         \n",
    "    return tokens \n",
    "    \n",
    "tokenize_with_not(\"This movie is not good. In fact, it is not even  \\r really a movie.\")"
   ]
  },
  {
   "cell_type": "code",
   "execution_count": 170,
   "metadata": {
    "collapsed": false
   },
   "outputs": [
    {
     "name": "stdout",
     "output_type": "stream",
     "text": [
      "not the fiancée of not Henri\n",
      "tokenize: not, the, fianc, e, of, not, henri\n",
      "tokenize_with_punct: not, the, fianc, é, e, of, not, henri\n",
      "tokenize_with_not: not, not_the, not_fianc, é, e, of, not, not_henri\n"
     ]
    }
   ],
   "source": [
    "# To keep things simple, we'll pretend that non-ascii \n",
    "# characters are punctuation.\n",
    "nonascii_string = u'not the fiancée of not Henri'\n",
    "print nonascii_string\n",
    "print('tokenize: %s' % \n",
    "      ', '.join(tokenize(nonascii_string)))\n",
    "print('tokenize_with_punct: %s' %\n",
    "      ', '.join(tokenize_with_punct(nonascii_string)))\n",
    "print('tokenize_with_not: %s' %\n",
    "      ', '.join(tokenize_with_not(nonascii_string)))"
   ]
  },
  {
   "cell_type": "code",
   "execution_count": 171,
   "metadata": {
    "collapsed": false
   },
   "outputs": [
    {
     "data": {
      "text/plain": [
       "[0.73999999999999999, 0.74499999999999988, 0.74749999999999994]"
      ]
     },
     "execution_count": 171,
     "metadata": {},
     "output_type": "execute_result"
    }
   ],
   "source": [
    "def tokenizer_expt(all_train_files, y):\n",
    "    \"\"\"\n",
    "    How does the tokenizer affect results? \n",
    "    Call do_expt three times, using three different tokenizers:\n",
    "    1- tokenize\n",
    "    2- tokenize_with_punct\n",
    "    3- tokenize_with_not\n",
    "    Return the average cross-validation accuracy for each approach,\n",
    "    in the above order. Use the default parameters for all other \n",
    "    arguments to do_expt.\n",
    "    Params:\n",
    "        filenames....list of training file names\n",
    "        y............true labels for each file (a numpy array)\n",
    "    Returns:\n",
    "        a list of average testing accuracies for each tokenizer.\n",
    "    \"\"\"\n",
    "    ###TODO\n",
    "    ###\n",
    "    accu=[]\n",
    "    accu.append(do_expt(filenames, y,tokenizer_fn=tokenize))\n",
    "    accu.append(do_expt(filenames, y,tokenizer_fn=tokenize_with_punct))\n",
    "    accu.append(do_expt(filenames, y,tokenizer_fn=tokenize_with_not))\n",
    "    return accu;\n",
    "tokenizer_expt(filenames, y)"
   ]
  },
  {
   "cell_type": "markdown",
   "metadata": {},
   "source": [
    "**We can see that tokenize_with_not results in slightly higher accuracy.\n",
    "In all experiments below, be sure to use tokenize_with_not as the tokenizer.**"
   ]
  },
  {
   "cell_type": "code",
   "execution_count": 172,
   "metadata": {
    "collapsed": false
   },
   "outputs": [
    {
     "data": {
      "image/png": "[encoded data removed]",
      "text/plain": [
       "<matplotlib.figure.Figure at 0x10b2af5d0>"
      ]
     },
     "metadata": {},
     "output_type": "display_data"
    },
    {
     "data": {
      "text/plain": [
       "[0.74749999999999994,\n",
       " 0.76000000000000001,\n",
       " 0.75000000000000011,\n",
       " 0.74249999999999994,\n",
       " 0.74999999999999989,\n",
       " 0.74249999999999994,\n",
       " 0.74749999999999994,\n",
       " 0.73750000000000004,\n",
       " 0.72750000000000004,\n",
       " 0.73000000000000009]"
      ]
     },
     "execution_count": 172,
     "metadata": {},
     "output_type": "execute_result"
    }
   ],
   "source": [
    "def min_df_expt(filenames, y):\n",
    "    \"\"\"\n",
    "    Vary the setting of min_df parameter in the do_expt \n",
    "    function to be ints in the range (1,10) (inclusive). For each setting,\n",
    "    call do_expt and store the resulting accuracy. Plot the accuracies for each setting.\n",
    "    Also return the list of accuracies. Use the default value for all\n",
    "    other arguments to the do_expt function, except that the tokenizer\n",
    "    should be tokenize_with_not.\n",
    "    Params:\n",
    "        filenames....list of training file names\n",
    "        y............true labels for each file (a numpy array)\n",
    "    Returns:\n",
    "        a list of average testing accuracies, one per min_df value.\n",
    "    \"\"\"\n",
    "    ###TODO\n",
    "    ###\n",
    "    mindfs=[1,2,3,4,5,6,7,8,9,10]\n",
    "    accu=[]\n",
    "    for i in range(1,11):\n",
    "        accu.append(do_expt(filenames, y,tokenizer_fn=tokenize_with_not,min_df=i))\n",
    "    plt.figure()\n",
    "    plt.plot(accu, 'bo-')\n",
    "    plt.xlabel('min_df')\n",
    "    plt.ylabel('accuracy')\n",
    "    plt.xticks(range(len(mindfs)), mindfs)\n",
    "    plt.show()\n",
    "    return accu\n",
    "min_df_expt(filenames, y)"
   ]
  },
  {
   "cell_type": "markdown",
   "metadata": {},
   "source": [
    "The best accuracy occurs when **min_df=2.** Why do you think this is better than setting **min_df=1**.\n",
    "\n",
    "Ans- There could be terms, mostly nouns, which appear only in a single file. There is no point in keeping these terms in vocabulary as they could be irrelevant. Setting min_df==1 removes these terms, and hence the accuracy increases.\n",
    "\n",
    "```\n",
    "###TODO\n",
    "###\n",
    "```\n",
    "\n",
    "\n",
    "\n",
    "\n",
    "\n"
   ]
  },
  {
   "cell_type": "markdown",
   "metadata": {},
   "source": [
    "**Be sure to set min_df=2 in all experiments below.**"
   ]
  },
  {
   "cell_type": "code",
   "execution_count": 173,
   "metadata": {
    "collapsed": false
   },
   "outputs": [
    {
     "data": {
      "image/png": "[encoded data removed]",
      "text/plain": [
       "<matplotlib.figure.Figure at 0x10b0c0a90>"
      ]
     },
     "metadata": {},
     "output_type": "display_data"
    },
    {
     "data": {
      "text/plain": [
       "[0.76000000000000001,\n",
       " 0.75250000000000006,\n",
       " 0.76749999999999996,\n",
       " 0.76000000000000001,\n",
       " 0.75250000000000006,\n",
       " 0.74999999999999989,\n",
       " 0.77000000000000013,\n",
       " 0.76250000000000007,\n",
       " 0.75749999999999995,\n",
       " 0.76000000000000001]"
      ]
     },
     "execution_count": 173,
     "metadata": {},
     "output_type": "execute_result"
    }
   ],
   "source": [
    "def max_df_expt(filenames, y):\n",
    "    \"\"\"\n",
    "    Vary the setting of max_df parameter in the do_expt \n",
    "    function to be one of [.1, .2, .3, .4, .5, .6, .7, .8, .9, 1.].\n",
    "    For each setting, call do_expt and store the resulting accuracy.\n",
    "    Plot the accuracies for each setting. Also return the list of accuracies.\n",
    "    Use the default value for all other arguments to the do_expt function,\n",
    "    except that the tokenizer=tokenize_with_not and min_df=2.\n",
    "    Params:\n",
    "        filenames....list of training file names\n",
    "        y............true labels for each file (a numpy array)\n",
    "    Returns:\n",
    "        a list of average testing accuracies, one per max_df value.\n",
    "    \"\"\"\n",
    "    ###TODO\n",
    "    ###\n",
    "    maxdfs=[.1, .2, .3, .4, .5, .6, .7, .8, .9, 1.]\n",
    "    accu=[]\n",
    "    for  n,val in enumerate(maxdfs):\n",
    "        accu.append(do_expt(filenames, y,tokenizer_fn=tokenize_with_not,min_df=2,max_df=val,binary=True))\n",
    "    plt.figure()\n",
    "    plt.plot(accu, 'bo-')\n",
    "    plt.xlabel('max_df')\n",
    "    plt.ylabel('accuracy')\n",
    "    plt.xticks(range(len(maxdfs)), maxdfs)\n",
    "    plt.show()\n",
    "    return accu\n",
    "    \n",
    "max_df_expt(filenames, y)"
   ]
  },
  {
   "cell_type": "markdown",
   "metadata": {},
   "source": [
    "**So, based on the above experiments, we set:**\n",
    "\n",
    "- binary=True\n",
    "- tokenizer=tokenize_with_not\n",
    "- min_df=2\n",
    "- max_df=.7\n",
    "\n",
    "This results in 5-fold cross-validation accuracy of 76.7%."
   ]
  },
  {
   "cell_type": "markdown",
   "metadata": {},
   "source": [
    "## Inspecting coefficients\n",
    "\n",
    "Next we'll look at the coefficients learned by LogisticRegression to \n",
    "determine how it is making its classification decisions."
   ]
  },
  {
   "cell_type": "code",
   "execution_count": 174,
   "metadata": {
    "collapsed": false
   },
   "outputs": [
    {
     "data": {
      "text/plain": [
       "LogisticRegression(C=1.0, class_weight=None, dual=False, fit_intercept=True,\n",
       "          intercept_scaling=1, max_iter=100, multi_class='ovr',\n",
       "          penalty='l2', random_state=42, solver='liblinear', tol=0.0001,\n",
       "          verbose=0)"
      ]
     },
     "execution_count": 174,
     "metadata": {},
     "output_type": "execute_result"
    }
   ],
   "source": [
    "# First, we'll train our final classifier using our best settings.\n",
    "X, vec = do_vectorize(filenames, tokenizer_fn=tokenize_with_not,\n",
    "                      binary=True, min_df=2, max_df=.7)\n",
    "clf = get_clf()\n",
    "clf.fit(X, y)"
   ]
  },
  {
   "cell_type": "markdown",
   "metadata": {},
   "source": [
    "The LogisticRegression variable (`clf`) has an attribute `.coef_`, which are the learned model coefficients. This is a numpy array with a real value for each term in the vocabulary. Positive values indicate a correlation with the positive class, negative values indicate a correlation with the negative class."
   ]
  },
  {
   "cell_type": "code",
   "execution_count": 175,
   "metadata": {
    "collapsed": false
   },
   "outputs": [
    {
     "name": "stdout",
     "output_type": "stream",
     "text": [
      "<type 'numpy.ndarray'>\n",
      "(1, 4735)\n"
     ]
    }
   ],
   "source": [
    "print type(clf.coef_)\n",
    "print clf.coef_.shape"
   ]
  },
  {
   "cell_type": "code",
   "execution_count": 176,
   "metadata": {
    "collapsed": false
   },
   "outputs": [
    {
     "name": "stdout",
     "output_type": "stream",
     "text": [
      "[ 0.30213187 -0.31130512 -0.01907301 -0.13229153  0.05602346  0.16798958\n",
      " -0.11328428  0.0352349  -0.13077808 -0.05752335]\n",
      "[u'!', u'\"', u'#', u'$', u'%', u'&', u'(', u')', u'*', u'+']\n"
     ]
    }
   ],
   "source": [
    "# Here are the first 10 coefficients.\n",
    "print(clf.coef_[0][:10])\n",
    "# The features corresponding to them can be found using the vectorizer's get_feature_names method.\n",
    "print(vec.get_feature_names()[:10])"
   ]
  },
  {
   "cell_type": "code",
   "execution_count": 177,
   "metadata": {
    "collapsed": false,
    "scrolled": false
   },
   "outputs": [
    {
     "name": "stdout",
     "output_type": "stream",
     "text": [
      "top positive coefs: [[u'worth', 0.61202129030220032], [u'film', 0.54740283482763774], [u'have', 0.47924607771118688], [u'best', 0.46201463949026556], [u'great', 0.45371032297221914]]\n",
      "top negative coefs: [[u'worst', -0.8539065231536348], [u'nothing', -0.73755613759583627], [u'waste', -0.66699369051651136], [u'boring', -0.56750647856149039], [u'bad', -0.5657171045620224]]\n"
     ]
    }
   ],
   "source": [
    "def get_top_coefficients(clf, vec, n=10):\n",
    "    \"\"\" Get the top n coefficients for each class (positive/negative).\n",
    "    Params:\n",
    "        clf...a LogisticRegression object that has already been fit to data.\n",
    "        vec...a CountVectorizer\n",
    "        n.....the number of features to print per class.\n",
    "    Returns:\n",
    "        Two lists of tuples. The first list containts the top terms for the positive\n",
    "        class. Each entry is a tuple of (string, float) pairs, where\n",
    "        string is the feature name and float is the coefficient.\n",
    "        The second list is the same but for the negative class.\n",
    "        In each list, entries should be sorted in descending order of \n",
    "        absolute value.\"\"\"\n",
    "    ###TODO\n",
    "    ###\n",
    "    cf = clf.coef_[0]\n",
    "    sort = np.argsort(cf)\n",
    "    features = vec.get_feature_names()\n",
    "    positives=[]\n",
    "    negatives=[]\n",
    "    for i in sort[:n]:\n",
    "        negatives.append([features[i], cf[i]])\n",
    "    for i in sort[::-1][:n]:\n",
    "        positives.append([features[i], cf[i]]) \n",
    "    return(positives,negatives)    \n",
    "pos_coef, neg_coef = get_top_coefficients(clf, vec, n=5)\n",
    "print('top positive coefs: %s' % str(pos_coef))\n",
    "print('top negative coefs: %s' % str(neg_coef))"
   ]
  },
  {
   "cell_type": "markdown",
   "metadata": {},
   "source": [
    "## Read testing data\n",
    "\n",
    "Next, we'll read in the testing files (in the `test/` subdirectory) and compute our accuracy."
   ]
  },
  {
   "cell_type": "code",
   "execution_count": 178,
   "metadata": {
    "collapsed": false
   },
   "outputs": [
    {
     "name": "stdout",
     "output_type": "stream",
     "text": [
      "X_test represents 400 documents with 4735 features\n",
      "y_test has 200 positive and 200 negative labels\n",
      "first testing file is data/test/pos/10055_10.txt\n",
      "last testing file is data/test/neg/9972_3.txt\n",
      "testing accuracy=0.78\n"
     ]
    }
   ],
   "source": [
    "# Do not modify.\n",
    "pos_test_files = get_files(path + os.sep + 'test' + os.sep + 'pos')\n",
    "neg_test_files = get_files(path + os.sep + 'test' + os.sep + 'neg')\n",
    "all_test_files = pos_test_files + neg_test_files\n",
    "# Note that we call .transform, not .fit_transform, since we \n",
    "# don't want to learn a new vocabulary.\n",
    "X_test = vec.transform(all_test_files)\n",
    "y_test = np.array([1] * len(pos_test_files) + [0] * len(neg_test_files))\n",
    "print('X_test represents %d documents with %d features' % (X_test.shape[0], X_test.shape[1]))\n",
    "print('y_test has %d positive and %d negative labels' % (len(np.where(y_test==1)[0]),\n",
    "                                                          len(np.where(y_test==0)[0])))\n",
    "print('first testing file is %s' % all_test_files[0])\n",
    "print('last testing file is %s' % all_test_files[-1])\n",
    "print('testing accuracy=%.4g' % accuracy_score(y_test, clf.predict(X_test)))"
   ]
  },
  {
   "cell_type": "markdown",
   "metadata": {
    "collapsed": false
   },
   "source": [
    "So, our testing accuracy is 78%, which is pretty close to our estimated accuracy of 76.7%."
   ]
  },
  {
   "cell_type": "markdown",
   "metadata": {},
   "source": [
    "Looking at the top terms per class, we see the term *film* as a strongly positive feature. This seems a bit strange. Perhaps good movies are called \"films\" and bad movies are just called \"movies\"? Alternatively, our classifier may have just fit some noise and inflated the coefficient for that term. We will next try removing that term from X to see how it changes testing accuracy."
   ]
  },
  {
   "cell_type": "code",
   "execution_count": 179,
   "metadata": {
    "collapsed": false
   },
   "outputs": [
    {
     "data": {
      "text/plain": [
       "1615"
      ]
     },
     "execution_count": 179,
     "metadata": {},
     "output_type": "execute_result"
    }
   ],
   "source": [
    "# Do not modify.\n",
    "def index_of_term(vec, term):\n",
    "    \"\"\" This returns the column index corresponding to this term.\"\"\"\n",
    "    return vec.get_feature_names().index(term)\n",
    "\n",
    "index_of_term(vec, 'film')"
   ]
  },
  {
   "cell_type": "code",
   "execution_count": 180,
   "metadata": {
    "collapsed": false,
    "scrolled": true
   },
   "outputs": [
    {
     "name": "stdout",
     "output_type": "stream",
     "text": [
      "testing accuracy=0.7925\n"
     ]
    }
   ],
   "source": [
    "def train_after_removing_features(X, y, vec, features_to_remove):\n",
    "    \"\"\"\n",
    "    Set to 0 the columns of X corresponding to the terms in features_to_remove. \n",
    "    Then, train a new classifier on X and y and return the result.\n",
    "    Params:\n",
    "        X....................the training matrix\n",
    "        y....................the true labels for each row in X\n",
    "        features_to_remove...a list of strings (entries in the vocabulary) that\n",
    "                             should be removed from X\n",
    "    Returns:\n",
    "       The classifier fit on the modified X data.\n",
    "    \"\"\"\n",
    "    ###TODO\n",
    "    ###\n",
    "    #help(X)\n",
    "    col_indexes=[]\n",
    "    for term in features_to_remove:\n",
    "        col_indexes.append(index_of_term(vec, term));\n",
    "\n",
    "    l= X.tolil()\n",
    "    no_of_rows=l.shape[0]\n",
    "    \n",
    "    for col in col_indexes:\n",
    "        for i in range(0,no_of_rows):\n",
    "            l[i,col]=0;\n",
    "    \n",
    "    X=l.tocsr()\n",
    "    clf = get_clf()\n",
    "    clf.fit(X, y)\n",
    "    return clf\n",
    "    \n",
    "    \n",
    "clf = train_after_removing_features(X.copy(), y, vec, ['film'])\n",
    "print('testing accuracy=%.5g' % accuracy_score(y_test, clf.predict(X_test)))"
   ]
  },
  {
   "cell_type": "markdown",
   "metadata": {},
   "source": [
    "It looks like removing the term *film* slightly increases accuracy (78%->79.25%)."
   ]
  },
  {
   "cell_type": "markdown",
   "metadata": {},
   "source": [
    "Finally, we want to inspect some of the errors made by the classifier on the testing data.\n"
   ]
  },
  {
   "cell_type": "code",
   "execution_count": 181,
   "metadata": {
    "collapsed": false
   },
   "outputs": [
    {
     "data": {
      "text/plain": [
       "[{'filename': 'data/test/pos/9713_8.txt',\n",
       "  'index': 194,\n",
       "  'predicted': 0.0,\n",
       "  'probas': array([ 0.99188633,  0.00811367]),\n",
       "  'truth': 1},\n",
       " {'filename': 'data/test/pos/7620_9.txt',\n",
       "  'index': 171,\n",
       "  'predicted': 0.0,\n",
       "  'probas': array([ 0.8726618,  0.1273382]),\n",
       "  'truth': 1},\n",
       " {'filename': 'data/test/pos/669_10.txt',\n",
       "  'index': 155,\n",
       "  'predicted': 0.0,\n",
       "  'probas': array([ 0.8152118,  0.1847882]),\n",
       "  'truth': 1},\n",
       " {'filename': 'data/test/neg/9221_4.txt',\n",
       "  'index': 382,\n",
       "  'predicted': 1.0,\n",
       "  'probas': array([ 0.24167003,  0.75832997]),\n",
       "  'truth': 0},\n",
       " {'filename': 'data/test/pos/12423_9.txt',\n",
       "  'index': 54,\n",
       "  'predicted': 0.0,\n",
       "  'probas': array([ 0.71723982,  0.28276018]),\n",
       "  'truth': 1},\n",
       " {'filename': 'data/test/neg/11555_3.txt',\n",
       "  'index': 224,\n",
       "  'predicted': 1.0,\n",
       "  'probas': array([ 0.344387,  0.655613]),\n",
       "  'truth': 0},\n",
       " {'filename': 'data/test/pos/11415_7.txt',\n",
       "  'index': 32,\n",
       "  'predicted': 0.0,\n",
       "  'probas': array([ 0.60913984,  0.39086016]),\n",
       "  'truth': 1},\n",
       " {'filename': 'data/test/neg/8342_2.txt',\n",
       "  'index': 367,\n",
       "  'predicted': 1.0,\n",
       "  'probas': array([ 0.44901463,  0.55098537]),\n",
       "  'truth': 0},\n",
       " {'filename': 'data/test/neg/5336_4.txt',\n",
       "  'index': 315,\n",
       "  'predicted': 1.0,\n",
       "  'probas': array([ 0.49137192,  0.50862808]),\n",
       "  'truth': 0}]"
      ]
     },
     "execution_count": 181,
     "metadata": {},
     "output_type": "execute_result"
    }
   ],
   "source": [
    "def get_top_errors(X_test, y_test, filenames, clf, n=10):\n",
    "    \"\"\"\n",
    "    Use clf to predict the labels of the testing data in X_test. \n",
    "    We want to find incorrectly predicted documents. Furthermore, we want to look at those \n",
    "    where the probability of the incorrect label, according to the classifier, is highest.\n",
    "    Use the .predict_proba method of the classifier to get the probabilities of\n",
    "    each class label. Return the n documents that were misclassified, sorted by the\n",
    "    probability of the incorrect label. The returned value is a list of dicts, defined below.\n",
    "    Params:\n",
    "        X_test......the testing matrix\n",
    "        y_test......the true labels for each testing document\n",
    "        filenames...the filenames for each testing document\n",
    "        clf.........a trained LogisticRegression object\n",
    "        n...........the number of errors to return\n",
    "    Returns:\n",
    "        A list of n dicts containing the following key/value pairs:\n",
    "           index: the index of this document (in the filenames array)\n",
    "           probas: a numpy array containing the probability of class 0 and 1\n",
    "           truth: the true label\n",
    "           predicted: the predicted label\n",
    "           filename: the path to the file for this document\n",
    "    \"\"\"\n",
    "    ###TODO\n",
    "    ###\n",
    "    predicted_values=clf.predict(X_test)\n",
    "    probability = clf.predict_proba(X_test)\n",
    "    prob_buff=[]\n",
    "    for i in range(len(probability)):\n",
    "        if(predicted_values[i]!=y_test[i]):\n",
    "            prob_buff.append((i,probability[i][predicted_values[i]]))\n",
    "    prob_buff_2 =sorted(prob_buff,key=lambda x:x[1],reverse=True)[::n]\n",
    "    error=[]\n",
    "    for j in prob_buff_2:\n",
    "        dic={}\n",
    "        dic['index']=j[0]\n",
    "        dic['probas']=probability[j[0]]\n",
    "        dic['truth'] = y_test[j[0]]\n",
    "        dic['predicted'] = predicted_values[j[0]]\n",
    "        dic['filename'] = filenames[j[0]]\n",
    "        error.append(dic)\n",
    "    return error   \n",
    "        \n",
    "    \n",
    "errors = get_top_errors(X_test, y_test, all_test_files, clf)\n",
    "errors"
   ]
  },
  {
   "cell_type": "markdown",
   "metadata": {},
   "source": [
    "Take a look at some of these misclassified documents. Some are errors of the classifier, others may be because the \"true\" labels may be incorrect.\n",
    "\n",
    "To get a sense of what is causing the error, we will identify terms that are most predictive of the wrong class in each document, then print out the context in which they appear."
   ]
  },
  {
   "cell_type": "code",
   "execution_count": 182,
   "metadata": {
    "collapsed": false
   },
   "outputs": [
    {
     "name": "stdout",
     "output_type": "stream",
     "text": [
      "for document data/test/pos/10055_10.txt, the term most predictive of class 0 is no (index=2793)\n",
      "for document data/test/pos/10055_10.txt, the term most predictive of class 1 is best (index=492)\n"
     ]
    }
   ],
   "source": [
    "# Given a document, find the term in it that is most strongly associated\n",
    "# with a given class label, according to a trained classifier.\n",
    "def most_predictive_term_in_doc(instance, clf, class_idx):\n",
    "    \"\"\"\n",
    "    Params:\n",
    "        instance....one row in the X csr_matrix, corresponding to a document.\n",
    "        clf.........a trained LogisticRegression classifier\n",
    "        class_idx...0 or 1. The class for which we should find the most \n",
    "                    predictive term in this document.\n",
    "    Returns:\n",
    "        The index corresponding to the term that appears in this instance\n",
    "        and has the highest coefficient for class class_idx.\n",
    "    \"\"\"\n",
    "    coefficient=clf.coef_[0]\n",
    "    ind=[]\n",
    "    for n in instance.indices:\n",
    "        ind.append((n,coefficient[n]))\n",
    "    index_asc=sorted(ind,key=lambda x:x[1],reverse=False)[0][0]\n",
    "    index_desc=sorted(ind,key=lambda x:x[1],reverse=True)[0][0]\n",
    "    if class_idx== 0:\n",
    "        return int(index_asc)\n",
    "    elif class_idx== 1:\n",
    "        return int(index_desc)\n",
    "    ###TODO\n",
    "    ###\n",
    "    \n",
    "neg_idx = most_predictive_term_in_doc(X_test[0], clf, 0)\n",
    "pos_idx = most_predictive_term_in_doc(X_test[0], clf, 1)\n",
    "print('for document %s, the term most predictive of class 0 is %s (index=%d)' %\n",
    "      (all_test_files[0], vec.get_feature_names()[neg_idx], neg_idx))\n",
    "print('for document %s, the term most predictive of class 1 is %s (index=%d)' %\n",
    "      (all_test_files[0], vec.get_feature_names()[pos_idx], pos_idx))"
   ]
  },
  {
   "cell_type": "code",
   "execution_count": 183,
   "metadata": {
    "collapsed": false
   },
   "outputs": [
    {
     "name": "stdout",
     "output_type": "stream",
     "text": [
      "\"no\" context with window 3: [u'school reunion \" .']\n",
      "\"no\" context with window 5: [u's high school reunion \" .']\n",
      "\"best\" context: [u's high school reunion \" .']\n",
      "\"a\" contexts: [u's high school reunion \" .', u's high school reunion \" .']\n"
     ]
    }
   ],
   "source": [
    "def find_contexts(filename, term, window=5):\n",
    "    \"\"\"\n",
    "    Find all context windows in which this term appears in this file.\n",
    "    You should use tokenize_with_not to tokenize this file. \n",
    "    \n",
    "    Params:\n",
    "        filename....the filename for this document.\n",
    "        term........the term to find\n",
    "        window......return this many tokens to the left and this many tokens to\n",
    "                    the right of every occurrence of term in this document\n",
    "    Returns:\n",
    "        a list of strings. Each string contains the matched context window.\n",
    "    \"\"\"\n",
    "    ###TODO\n",
    "    ###\n",
    "    tokens = tokenize_with_not(file2string(filename))\n",
    "    con_win=[]\n",
    "    index=[]\n",
    "    for i in range(0,len(tokens)):\n",
    "        if tokens[i]==term:\n",
    "            index.append(i)\n",
    "    for k in index:\n",
    "        ele=\" \".join(tokens[i-window:i+(window+k)])\n",
    "        con_win.append(ele)\n",
    "    return con_win\n",
    "# Here are some sample outputs on the first test document:\n",
    "print('\"no\" context with window 3: %s' % find_contexts(all_test_files[0], 'no', 3))\n",
    "print('\"no\" context with window 5: %s' % find_contexts(all_test_files[0], 'no', 5))\n",
    "print('\"best\" context: %s' % find_contexts(all_test_files[0], 'best'))\n",
    "print('\"a\" contexts: %s' % find_contexts(all_test_files[0], 'a'))"
   ]
  },
  {
   "cell_type": "code",
   "execution_count": 184,
   "metadata": {
    "collapsed": false
   },
   "outputs": [
    {
     "name": "stdout",
     "output_type": "stream",
     "text": [
      "document data/test/pos/9713_8.txt misclassified as 0\n",
      "worst appears here:\n",
      "[u'want to perform almost any of their stuff at home .']\n",
      "\n",
      "document data/test/pos/7620_9.txt misclassified as 0\n",
      "bad appears here:\n",
      "[u'part . this is definitely one of her best roles !', u'part . this is definitely one of her best roles !']\n",
      "\n",
      "document data/test/pos/669_10.txt misclassified as 0\n",
      "no appears here:\n",
      "[u'will show you , not not_in the least bit surprising .']\n",
      "\n",
      "document data/test/neg/9221_4.txt misclassified as 1\n",
      "worth appears here:\n",
      "[u'not be not_afraid to fast forward through parts of the movie']\n",
      "\n",
      "document data/test/pos/12423_9.txt misclassified as 0\n",
      "almost appears here:\n",
      "[u'* * * * out of * * * * *']\n",
      "\n",
      "document data/test/neg/11555_3.txt misclassified as 1\n",
      "have appears here:\n",
      "[u'really funny in the beginning but went down hill quickly .']\n",
      "\n",
      "document data/test/pos/11415_7.txt misclassified as 0\n",
      "bad appears here:\n",
      "[u'talked about her only caring about herself or something ) .', u'talked about her only caring about herself or something ) .', u'talked about her only caring about herself or something ) .']\n",
      "\n",
      "document data/test/neg/8342_2.txt misclassified as 1\n",
      "for appears here:\n",
      "[u'of 1 is because the effects guys deserve some recognition .']\n",
      "\n",
      "document data/test/neg/5336_4.txt misclassified as 1\n",
      "have appears here:\n",
      "[u'it has to be better . it has to be .', u'it has to be better . it has to be .']\n",
      "\n"
     ]
    }
   ],
   "source": [
    "# Do not modify. This will use your code above to print the top errors.\n",
    "def print_errors(errors, clf, X, vec, window=5):\n",
    "    for error in errors:\n",
    "        fidx = most_predictive_term_in_doc(X[error['index']], clf, error['predicted'])\n",
    "        term = vec.get_feature_names()[fidx]\n",
    "        print('document %s misclassified as %d' % (error['filename'], error['predicted']))\n",
    "        print('%s appears here:' % (term))\n",
    "        print(find_contexts(error['filename'], term, window))\n",
    "        print('')\n",
    "\n",
    "        \n",
    "print_errors(errors, clf, X_test, vec, window=10)"
   ]
  },
  {
   "cell_type": "code",
   "execution_count": 185,
   "metadata": {
    "collapsed": false
   },
   "outputs": [
    {
     "data": {
      "image/png": "[encoded data removed]",
      "text/plain": [
       "<matplotlib.figure.Figure at 0x10b10a210>"
      ]
     },
     "metadata": {},
     "output_type": "display_data"
    },
    {
     "data": {
      "image/png": "[encoded data removed]",
      "text/plain": [
       "<matplotlib.figure.Figure at 0x10b31cc10>"
      ]
     },
     "metadata": {},
     "output_type": "display_data"
    },
    {
     "data": {
      "image/png": "[encoded data removed]",
      "text/plain": [
       "<matplotlib.figure.Figure at 0x10b0b6990>"
      ]
     },
     "metadata": {},
     "output_type": "display_data"
    }
   ],
   "source": [
    "# Do not modify.\n",
    "import json\n",
    "outf = open('output.txt', 'wt')\n",
    "clf.fit(X, y)\n",
    "\n",
    "json.dump({\n",
    "           'find_contexts': find_contexts(all_test_files[10], 'its', 10),\n",
    "           'pred_term': most_predictive_term_in_doc(X_test[10], clf, 1),\n",
    "           'top_errors': str(get_top_errors(X_test, y_test, all_test_files, clf)[0].items()),\n",
    "           'get_files': get_files(path + os.sep + 'train' + os.sep + 'pos')[:10],\n",
    "           'get_true_labels_pos': list(get_true_labels(get_files(path + os.sep + 'train' + os.sep + 'pos')[:5])),\n",
    "           'get_true_labels_neg': list(get_true_labels(get_files(path + os.sep + 'train' + os.sep + 'neg')[:5])),\n",
    "           'tokenize': tokenize('Hi-there-what_is UP????'),\n",
    "           'tokenize_punct': tokenize_with_punct('Hi-there-what_is UP????'),\n",
    "           'tokenize_not': tokenize_with_not('Hi-that is not cool . at all . not'),\n",
    "           'vec': sorted(do_vectorize(get_files(path + os.sep + 'train' + os.sep + 'pos')[:10])[0][8].nonzero()[1].tolist())[:10],\n",
    "           'vec_nonbinary': sorted(do_vectorize(get_files(path + os.sep + 'train' +\n",
    "                                                         os.sep + 'pos')[:10], binary=False)[0][8].data)[::-1][:10],\n",
    "           'cv10': '%.4f' % do_cross_validation(X[:100], y[:100], verbose=False, n_folds=10),\n",
    "           'cv3': '%.4f' % do_cross_validation(X[:100], y[:100], verbose=False, n_folds=3),\n",
    "           'nfolds_expt': ['%.4f' % v for v in compare_n_folds(filenames, y)],\n",
    "           'binary_expt': ['%.4f' % v for v in compare_binary(filenames, y)],\n",
    "           'tokenizer_expt': ['%.4f' % v for v in tokenizer_expt(filenames, y)],\n",
    "           'mindf_expt': ['%.4f' % v for v in min_df_expt(filenames, y)],\n",
    "           'maxdf_expt': ['%.4f' % v for v in max_df_expt(filenames, y)],\n",
    "           'top_coef': get_top_coefficients(clf, vec, n=3),\n",
    "           'rem_feat': '%.4f' % accuracy_score(train_after_removing_features(X.copy(), y, vec, ['worst']).predict(X_test), y_test),\n",
    "          },\n",
    "          outf, indent=2, sort_keys=True)\n",
    "outf.close()"
   ]
  }
 ],
 "metadata": {
  "kernelspec": {
   "display_name": "Python 2",
   "language": "python",
   "name": "python2"
  },
  "language_info": {
   "codemirror_mode": {
    "name": "ipython",
    "version": 2
   },
   "file_extension": ".py",
   "mimetype": "text/x-python",
   "name": "python",
   "nbconvert_exporter": "python",
   "pygments_lexer": "ipython2",
   "version": "2.7.10"
  }
 },
 "nbformat": 4,
 "nbformat_minor": 0
}
